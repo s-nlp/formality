{
  "nbformat": 4,
  "nbformat_minor": 0,
  "metadata": {
    "colab": {
      "name": "Классификатор формальное и неформальное keras ELMo.ipynb",
      "provenance": [],
      "collapsed_sections": []
    },
    "kernelspec": {
      "name": "python3",
      "display_name": "Python 3"
    },
    "language_info": {
      "name": "python"
    },
    "accelerator": "GPU"
  },
  "cells": [
    {
      "cell_type": "code",
      "metadata": {
        "id": "r7t2NCPm4OFs"
      },
      "source": [
        "import os\n",
        "from glob import glob\n",
        "import numpy as np\n",
        "\n",
        "import tensorflow as tf \n",
        "import tensorflow_hub as hub \n",
        "import tensorflow.compat.v1 as tf1\n",
        "\n",
        "from tensorflow.keras.models import Model\n",
        "from tensorflow.keras.layers import Dense, Embedding, LSTM, Bidirectional, Dropout, Input, Lambda"
      ],
      "execution_count": null,
      "outputs": []
    },
    {
      "cell_type": "code",
      "metadata": {
        "id": "462ewMDA94mg"
      },
      "source": [
        "# Download ELMo\n",
        "\n",
        "tf1.disable_eager_execution()\n",
        "tf1.disable_v2_behavior()"
      ],
      "execution_count": null,
      "outputs": []
    },
    {
      "cell_type": "code",
      "metadata": {
        "id": "F7GW17LZ0yrW"
      },
      "source": [
        "file_path = 'GYAFC_Corpus.7z'\n",
        "if not os.path.isfile(file_path):\n",
        "    !wget -O GYAFC_Corpus.7z \"https://docs.google.com/uc?export=download&id=18KvT3MHnKtlHcFyna0044CxNbdgOLJXU\"\n",
        "    !7z x GYAFC_Corpus.7z"
      ],
      "execution_count": null,
      "outputs": []
    },
    {
      "cell_type": "code",
      "metadata": {
        "id": "O9AoLzBx3ig9"
      },
      "source": [
        "def data_read(data_path):\n",
        "    data = []    \n",
        "    for file_name in glob(data_path):\n",
        "        with open(file_name) as f:\n",
        "            tmp_data = f.read().split('\\n')\n",
        "            data.extend(tmp_data)\n",
        "    return data"
      ],
      "execution_count": null,
      "outputs": []
    },
    {
      "cell_type": "code",
      "metadata": {
        "id": "vCKLmiOr3u6U"
      },
      "source": [
        "path_formal = 'GYAFC_Corpus/*/{}/formal*'\n",
        "path_inform = 'GYAFC_Corpus/*/{}/informal*'"
      ],
      "execution_count": null,
      "outputs": []
    },
    {
      "cell_type": "code",
      "metadata": {
        "id": "NIeM0Fum3qam"
      },
      "source": [
        "data_train_form = data_read(path_formal.format('train'))\n",
        "data_train_inform = data_read(path_inform.format('train'))\n",
        "\n",
        "data_valid_form = data_read(path_formal.format('test'))\n",
        "data_valid_inform = data_read(path_inform.format('test'))\n",
        "\n",
        "data_test_form = data_read(path_formal.format('tune'))\n",
        "data_test_inform = data_read(path_inform.format('tune'))"
      ],
      "execution_count": null,
      "outputs": []
    },
    {
      "cell_type": "code",
      "metadata": {
        "id": "plm6qugG1v_5"
      },
      "source": [
        "elmo = hub.Module(\"https://tfhub.dev/google/elmo/3\", trainable=True)"
      ],
      "execution_count": null,
      "outputs": []
    },
    {
      "cell_type": "code",
      "metadata": {
        "id": "_raeDZph6Hho"
      },
      "source": [
        "def prep_dataset(formal, informal):\n",
        "    formal = list(set(formal))\n",
        "    informal = list(set(informal))\n",
        "    X = formal + informal\n",
        "    Y_zeros = np.zeros(len(formal))\n",
        "    Y_ones = np.ones(len(informal))\n",
        "    y = np.concatenate((Y_zeros,Y_ones))\n",
        "    return X, y"
      ],
      "execution_count": null,
      "outputs": []
    },
    {
      "cell_type": "code",
      "metadata": {
        "id": "IzSgsK9J6H7I"
      },
      "source": [
        "X_train, y_train = prep_dataset(data_train_form, data_train_inform)\n",
        "X_valid, y_valid = prep_dataset(data_valid_form, data_valid_inform)\n",
        "X_test, y_test = prep_dataset(data_test_form, data_test_inform)"
      ],
      "execution_count": null,
      "outputs": []
    },
    {
      "cell_type": "code",
      "metadata": {
        "id": "2Q51U-cW1xaX"
      },
      "source": [
        "from cachetools import TTLCache, cached\n",
        "cache = TTLCache(maxsize=100, ttl=21600)\n",
        "\n",
        "@cached(cache)\n",
        "def ELMoEmbedding(x):\n",
        "    return elmo(tf.reshape(tf.cast(x,tf.string),[-1]), signature='default', as_dict=True)['elmo']"
      ],
      "execution_count": null,
      "outputs": []
    },
    {
      "cell_type": "code",
      "metadata": {
        "id": "x-Wc02Pl15dp"
      },
      "source": [
        "def create_model_architecture():\n",
        "    input_text = Input(shape=(1,), dtype='string', name='input_text')\n",
        "    embedding = Lambda(ELMoEmbedding,\n",
        "                       output_shape=(1024,),\n",
        "                       name='elmo_embedding')(input_text)\n",
        "    x = Bidirectional(LSTM(1024,\n",
        "                           return_sequences=False,\n",
        "                           dropout=0.2,\n",
        "                           recurrent_dropout=0.2,\n",
        "                           name=\"BiLSTM\"))(embedding) \n",
        "    x = Dense(512, activation='relu')(x)\n",
        "    x = Dropout(0.5)(x)\n",
        "    # x = embedding\n",
        "    x = Dense(256, activation='relu')(x)\n",
        "    x = Dropout(0.5)(x)\n",
        "    predictions = Dense(1, 'sigmoid')(x)\n",
        "\n",
        "    model = Model(inputs = [input_text], outputs = predictions)\n",
        "    \n",
        "    model.compile(\n",
        "        loss='binary_crossentropy',\n",
        "        optimizer='adam',\n",
        "        metrics=['accuracy']\n",
        "    )\n",
        "\n",
        "    return model"
      ],
      "execution_count": null,
      "outputs": []
    },
    {
      "cell_type": "code",
      "metadata": {
        "id": "F8FmqZSV17xw"
      },
      "source": [
        "model = create_model_architecture()"
      ],
      "execution_count": null,
      "outputs": []
    },
    {
      "cell_type": "code",
      "metadata": {
        "colab": {
          "base_uri": "https://localhost:8080/"
        },
        "id": "Uzwl26CQhng2",
        "outputId": "252feeee-0151-49c9-94ff-d922026ee6d7"
      },
      "source": [
        "model.summary()"
      ],
      "execution_count": null,
      "outputs": [
        {
          "output_type": "stream",
          "name": "stdout",
          "text": [
            "Model: \"model\"\n",
            "_________________________________________________________________\n",
            "Layer (type)                 Output Shape              Param #   \n",
            "=================================================================\n",
            "input_text (InputLayer)      [(None, 1)]               0         \n",
            "_________________________________________________________________\n",
            "elmo_embedding (Lambda)      (None, None, 1024)        0         \n",
            "_________________________________________________________________\n",
            "bidirectional (Bidirectional (None, 2048)              16785408  \n",
            "_________________________________________________________________\n",
            "dense (Dense)                (None, 512)               1049088   \n",
            "_________________________________________________________________\n",
            "dropout (Dropout)            (None, 512)               0         \n",
            "_________________________________________________________________\n",
            "dense_1 (Dense)              (None, 256)               131328    \n",
            "_________________________________________________________________\n",
            "dropout_1 (Dropout)          (None, 256)               0         \n",
            "_________________________________________________________________\n",
            "dense_2 (Dense)              (None, 1)                 257       \n",
            "=================================================================\n",
            "Total params: 17,966,081\n",
            "Trainable params: 17,966,081\n",
            "Non-trainable params: 0\n",
            "_________________________________________________________________\n"
          ]
        }
      ]
    },
    {
      "cell_type": "code",
      "metadata": {
        "colab": {
          "base_uri": "https://localhost:8080/"
        },
        "id": "zSQP1ZHX2ACg",
        "outputId": "2876613d-4b5f-4b8c-9f7e-0a000714b472"
      },
      "source": [
        "with tf.compat.v1.Session() as sess:\n",
        "    sess.run(tf.compat.v1.global_variables_initializer())\n",
        "    sess.run(tf.compat.v1.tables_initializer())\n",
        "    history = model.fit(\n",
        "        np.asarray(X_train), y_train,\n",
        "        epochs=3, batch_size=64,\n",
        "        validation_split=0.05\n",
        "    )\n",
        "    model.save_weights('model_elmo_weights.h5')"
      ],
      "execution_count": null,
      "outputs": [
        {
          "output_type": "stream",
          "name": "stdout",
          "text": [
            "Train on 194403 samples, validate on 10232 samples\n",
            "Epoch 1/4\n",
            "194403/194403 [==============================] - ETA: 0s - loss: 0.2488 - acc: 0.8946"
          ]
        },
        {
          "output_type": "stream",
          "name": "stderr",
          "text": [
            "/usr/local/lib/python3.7/dist-packages/keras/engine/training.py:2470: UserWarning: `Model.state_updates` will be removed in a future version. This property should not be used in TensorFlow 2.0, as `updates` are applied automatically.\n",
            "  warnings.warn('`Model.state_updates` will be removed in a future version. '\n"
          ]
        },
        {
          "output_type": "stream",
          "name": "stdout",
          "text": [
            "\b\b\b\b\b\b\b\b\b\b\b\b\b\b\b\b\b\b\b\b\b\b\b\b\b\b\b\b\b\b\b\b\b\b\b\b\b\b\b\b\b\b\b\b\b\b\b\b\b\b\b\b\b\b\b\b\b\b\b\b\b\b\b\b\b\b\b\b\b\b\b\b\b\b\b\b\b\b\b\b\b\b\b\b\b\r194403/194403 [==============================] - 676s 3ms/sample - loss: 0.2488 - acc: 0.8946 - val_loss: 0.2721 - val_acc: 0.8805\n",
            "Epoch 2/4\n",
            "194403/194403 [==============================] - 656s 3ms/sample - loss: 0.2059 - acc: 0.9141 - val_loss: 0.2338 - val_acc: 0.8959\n",
            "Epoch 3/4\n",
            "194403/194403 [==============================] - 655s 3ms/sample - loss: 0.1865 - acc: 0.9217 - val_loss: 0.2067 - val_acc: 0.9075\n",
            "Epoch 4/4\n",
            "194403/194403 [==============================] - 656s 3ms/sample - loss: 0.1712 - acc: 0.9283 - val_loss: 0.2961 - val_acc: 0.8842\n"
          ]
        }
      ]
    },
    {
      "cell_type": "code",
      "metadata": {
        "colab": {
          "base_uri": "https://localhost:8080/"
        },
        "id": "76r30MIkLNtw",
        "outputId": "ed48f9d8-83e2-4802-c58d-a82e377e0654"
      },
      "source": [
        "val_predict[100]"
      ],
      "execution_count": null,
      "outputs": [
        {
          "output_type": "execute_result",
          "data": {
            "text/plain": [
              "array([0.51989114], dtype=float32)"
            ]
          },
          "metadata": {},
          "execution_count": 21
        }
      ]
    },
    {
      "cell_type": "code",
      "metadata": {
        "id": "RUZZpDyNLQ3Y"
      },
      "source": [
        "model.load_weights(\"model_elmo_weights.h5\")"
      ],
      "execution_count": null,
      "outputs": []
    },
    {
      "cell_type": "code",
      "metadata": {
        "id": "qPT4lfDPTFW4"
      },
      "source": [
        "root_path = '/content/drive/MyDrive/Colab Notebooks/Informal to formal/'\n",
        "name = 'model_elmo_weights'"
      ],
      "execution_count": null,
      "outputs": []
    },
    {
      "cell_type": "code",
      "metadata": {
        "id": "5vSdccu_TP2u"
      },
      "source": [
        "\n",
        "from shutil import copyfile"
      ],
      "execution_count": null,
      "outputs": []
    },
    {
      "cell_type": "code",
      "metadata": {
        "id": "-EUhwkQFS3bo"
      },
      "source": [
        "!7z a {name} {'./' + name}\n",
        "copyfile(name + '.7z', root_path + name + '.7z')"
      ],
      "execution_count": null,
      "outputs": []
    },
    {
      "cell_type": "code",
      "metadata": {
        "id": "SDJ2u5j5SzxR"
      },
      "source": [
        "def save_on_disk(name, model, tokenizer, root_path):\n",
        "    if not os.path.isdir(name):\n",
        "        os.mkdir(name)\n",
        "    filename = name +'/' + name\n",
        "    with open(filename + '.json', 'w') as json_file:\n",
        "        json_file.write(model.to_json())\n",
        "    model.save_weights(filename + '.h5')\n",
        "    tokenizer_json = tokenizer.to_json()\n",
        "    filename = name +'/' + 'tokenizer.json'\n",
        "    with io.open(filename, 'w', encoding='utf-8') as f:\n",
        "        f.write(json.dumps(tokenizer_json, ensure_ascii=False))\n",
        "    !7z a {name} {'./' + name}\n",
        "    copyfile(name + '.7z', root_path + name + '.7z')\n",
        "\n",
        "\n",
        "def load_from_disk(root_path, name):\n",
        "    if not os.path.isdir(name):\n",
        "        copyfile(root_path + name +'.7z', name + '.7z')\n",
        "        !7z x {name +'.7z'}\n",
        "    filename = name +'/' + 'tokenizer.json'\n",
        "    with open(filename) as f:\n",
        "        data = json.load(f)\n",
        "        tokenizer = tokenizer_from_json(data)\n",
        "    name += '/' + name\n",
        "    json_file = open(name + '.json', 'r')\n",
        "    loaded_model_json = json_file.read()\n",
        "    json_file.close()\n",
        "    model = model_from_json(loaded_model_json)\n",
        "    model.load_weights(name + '.h5')\n",
        "    return model, tokenizer"
      ],
      "execution_count": null,
      "outputs": []
    },
    {
      "cell_type": "code",
      "metadata": {
        "id": "43Vo3rWGNBDj"
      },
      "source": [
        " with tf.compat.v1.Session() as sess:\n",
        "    sess.run(tf.compat.v1.global_variables_initializer())\n",
        "    sess.run(tf.compat.v1.tables_initializer())\n",
        "    model.load_weights(\"model_elmo_weights.h5\")\n",
        "    val_predict = model.predict(np.asarray(X_valid))\n",
        "    test_predict = model.predict(np.asarray(X_test))"
      ],
      "execution_count": null,
      "outputs": []
    },
    {
      "cell_type": "code",
      "metadata": {
        "colab": {
          "base_uri": "https://localhost:8080/"
        },
        "id": "Y7QL9KLzPeK3",
        "outputId": "e6b8f8db-f553-4b4e-d0fd-a022f62c9ae7"
      },
      "source": [
        "dict(zip(model.metrics_names, result))"
      ],
      "execution_count": null,
      "outputs": [
        {
          "output_type": "execute_result",
          "data": {
            "text/plain": [
              "{'acc': 0.8682798, 'loss': 0.45343654884963286}"
            ]
          },
          "metadata": {},
          "execution_count": 33
        }
      ]
    },
    {
      "cell_type": "code",
      "metadata": {
        "id": "r-y-u6JSQIK_"
      },
      "source": [
        "from sklearn.metrics import classification_report"
      ],
      "execution_count": null,
      "outputs": []
    },
    {
      "cell_type": "code",
      "metadata": {
        "id": "K_G_OXGvQ5lu"
      },
      "source": [
        "val_predict_around = np.around(val_predict)"
      ],
      "execution_count": null,
      "outputs": []
    },
    {
      "cell_type": "code",
      "metadata": {
        "colab": {
          "base_uri": "https://localhost:8080/"
        },
        "id": "nkn0HFdMQJZX",
        "outputId": "ac4f0105-4e75-4567-b52c-b6e3da8df007"
      },
      "source": [
        "result = classification_report(np.expand_dims(y_valid, 1), val_predict_around, digits=6)\n",
        "print(result)"
      ],
      "execution_count": null,
      "outputs": [
        {
          "output_type": "stream",
          "name": "stdout",
          "text": [
            "              precision    recall  f1-score   support\n",
            "\n",
            "         0.0   0.831293  0.950093  0.886732     10720\n",
            "         1.0   0.928686  0.771198  0.842646      9034\n",
            "\n",
            "    accuracy                       0.868280     19754\n",
            "   macro avg   0.879989  0.860645  0.864689     19754\n",
            "weighted avg   0.875833  0.868280  0.866570     19754\n",
            "\n"
          ]
        }
      ]
    },
    {
      "cell_type": "code",
      "metadata": {
        "id": "1njeOb-gRe9K"
      },
      "source": [
        "test_predict_around = np.around(test_predict)"
      ],
      "execution_count": null,
      "outputs": []
    },
    {
      "cell_type": "code",
      "metadata": {
        "colab": {
          "base_uri": "https://localhost:8080/"
        },
        "id": "GA_7nDceQMCV",
        "outputId": "1326aefd-df37-409b-f126-a8bf6f4568da"
      },
      "source": [
        "result = classification_report(np.expand_dims(y_test, 1), test_predict_around, digits=6)\n",
        "print(result)"
      ],
      "execution_count": null,
      "outputs": [
        {
          "output_type": "stream",
          "name": "stdout",
          "text": [
            "              precision    recall  f1-score   support\n",
            "\n",
            "         0.0   0.796025  0.956481  0.868907     22151\n",
            "         1.0   0.935686  0.720931  0.814389     19454\n",
            "\n",
            "    accuracy                       0.846341     41605\n",
            "   macro avg   0.865856  0.838706  0.841648     41605\n",
            "weighted avg   0.861329  0.846341  0.843415     41605\n",
            "\n"
          ]
        }
      ]
    }
  ]
}