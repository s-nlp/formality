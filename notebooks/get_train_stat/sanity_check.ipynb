{
 "cells": [
  {
   "cell_type": "markdown",
   "id": "d927c5c2-8c9e-4ca8-9a67-9ae1b78ea5d0",
   "metadata": {},
   "source": [
    "# from saved"
   ]
  },
  {
   "cell_type": "code",
   "execution_count": 2,
   "id": "c22d403c-c0e6-4736-aa81-1ead20eb27dd",
   "metadata": {},
   "outputs": [],
   "source": [
    "from sklearn.metrics import classification_report"
   ]
  },
  {
   "cell_type": "code",
   "execution_count": 3,
   "id": "17608473-e2bf-44b1-a902-6a39dd1f900e",
   "metadata": {},
   "outputs": [],
   "source": [
    "# md = \"microsoft_deberta-base_ep5_wus1000_lr1e-06\"\n",
    "\n",
    "md = \"microsoft_deberta-large_ep5_wus100_lr1e-05\""
   ]
  },
  {
   "cell_type": "code",
   "execution_count": 4,
   "id": "42a765c5-1a48-42fd-ba44-cbdfd9d5cfc6",
   "metadata": {},
   "outputs": [],
   "source": [
    "import json\n",
    "with open(f\"GYAFC_test_labels.json\") as f:\n",
    "    labels_saved = json.load(f)"
   ]
  },
  {
   "cell_type": "code",
   "execution_count": 5,
   "id": "4ee59edc-d638-4e33-aa47-6ad2f86ab8da",
   "metadata": {},
   "outputs": [],
   "source": [
    "import json\n",
    "with open(f\"../trained_models/{md}/test_predicts.json\") as f:\n",
    "    list_predited_label_saved = json.load(f)"
   ]
  },
  {
   "cell_type": "code",
   "execution_count": 6,
   "id": "59f2bc3d-e1de-4a0a-bf9b-88dbc33a2814",
   "metadata": {},
   "outputs": [
    {
     "name": "stdout",
     "output_type": "stream",
     "text": [
      "              precision    recall  f1-score   support\n",
      "\n",
      "           0      0.824     0.958     0.886     22151\n",
      "           1      0.941     0.767     0.845     19449\n",
      "\n",
      "    accuracy                          0.869     41600\n",
      "   macro avg      0.883     0.862     0.866     41600\n",
      "weighted avg      0.879     0.869     0.867     41600\n",
      "\n"
     ]
    }
   ],
   "source": [
    "print(classification_report(labels_saved, list_predited_label_saved, digits=3))"
   ]
  },
  {
   "cell_type": "code",
   "execution_count": 23,
   "id": "e7574e7c-5eb6-4a0c-969e-cf26183f0d57",
   "metadata": {},
   "outputs": [
    {
     "name": "stdout",
     "output_type": "stream",
     "text": [
      "              precision    recall  f1-score   support\n",
      "\n",
      "           0      0.824     0.958     0.886     22151\n",
      "           1      0.941     0.767     0.845     19449\n",
      "\n",
      "    accuracy                          0.869     41600\n",
      "   macro avg      0.883     0.862     0.866     41600\n",
      "weighted avg      0.879     0.869     0.867     41600\n",
      "\n"
     ]
    }
   ],
   "source": [
    "print(classification_report(list_label, list_predited_label_saved, digits=3))"
   ]
  },
  {
   "cell_type": "markdown",
   "id": "50a608c2-34e1-4861-9b12-7221f39d7d4c",
   "metadata": {},
   "source": [
    "# From relaunched inference"
   ]
  },
  {
   "cell_type": "code",
   "execution_count": 8,
   "id": "9e04bf9b-a551-486b-b141-e4cfa740cc91",
   "metadata": {},
   "outputs": [],
   "source": [
    "import sys\n",
    "sys.path.append(\"../\")"
   ]
  },
  {
   "cell_type": "code",
   "execution_count": 9,
   "id": "888c1dbd-9241-476b-921c-b5a2bac95050",
   "metadata": {},
   "outputs": [
    {
     "name": "stderr",
     "output_type": "stream",
     "text": [
      "2023-05-05 14:29:01.992502: I tensorflow/core/platform/cpu_feature_guard.cc:182] This TensorFlow binary is optimized to use available CPU instructions in performance-critical operations.\n",
      "To enable the following instructions: AVX2 FMA, in other operations, rebuild TensorFlow with the appropriate compiler flags.\n",
      "2023-05-05 14:29:02.674039: W tensorflow/compiler/tf2tensorrt/utils/py_utils.cc:38] TF-TRT Warning: Could not find TensorRT\n"
     ]
    }
   ],
   "source": [
    "from utils import train_nli\n",
    "from data import load_gyafc\n",
    "from torch.utils.data import Dataset, DataLoader\n",
    "import torch\n",
    "from transformers import (DebertaTokenizer,\n",
    "                          DebertaForSequenceClassification,\n",
    "                          AutoModelForSequenceClassification,  \n",
    "                          AutoTokenizer,\n",
    "                          Trainer,TrainingArguments)"
   ]
  },
  {
   "cell_type": "code",
   "execution_count": 10,
   "id": "20e35c16-82c0-4594-9cfc-fe3dc9b396f5",
   "metadata": {},
   "outputs": [],
   "source": [
    "device = torch.device(\"cuda\" if torch.cuda.is_available() else \"cpu\")"
   ]
  },
  {
   "cell_type": "code",
   "execution_count": 11,
   "id": "1c7eecb1-e5af-49e7-a6cf-f17cc6593454",
   "metadata": {},
   "outputs": [],
   "source": [
    "tr_val_test_datasets = load_gyafc(\"microsoft/deberta-base\", toy = False)"
   ]
  },
  {
   "cell_type": "code",
   "execution_count": 12,
   "id": "2f779b06-bb96-40f7-8b12-2399515c535d",
   "metadata": {},
   "outputs": [],
   "source": [
    "_, _, test_dataset = tr_val_test_datasets"
   ]
  },
  {
   "cell_type": "code",
   "execution_count": 13,
   "id": "c024ee7c-1fe5-4661-9edf-f1f6c90fd9a6",
   "metadata": {},
   "outputs": [],
   "source": [
    "test_dataloader = DataLoader(\n",
    "            test_dataset,\n",
    "            batch_size=64,\n",
    "            # num_workers=4,\n",
    "            drop_last=True\n",
    "        )"
   ]
  },
  {
   "cell_type": "code",
   "execution_count": 14,
   "id": "55fef235-1e4a-4039-a749-8ecf42da34b1",
   "metadata": {},
   "outputs": [],
   "source": [
    "trained_model = f\"../trained_models/{md}/nli_model/\""
   ]
  },
  {
   "cell_type": "code",
   "execution_count": 15,
   "id": "f97b95d2-43af-47cd-81ad-14f766b970e9",
   "metadata": {},
   "outputs": [],
   "source": [
    "model = AutoModelForSequenceClassification.from_pretrained(trained_model)\n",
    "model = model.to(device)"
   ]
  },
  {
   "cell_type": "code",
   "execution_count": 16,
   "id": "e5bce0f8-bf26-44fb-987e-dba9b8897bf8",
   "metadata": {},
   "outputs": [
    {
     "name": "stdout",
     "output_type": "stream",
     "text": [
      "huggingface/tokenizers: The current process just got forked, after parallelism has already been used. Disabling parallelism to avoid deadlocks...\n",
      "To disable this warning, you can either:\n",
      "\t- Avoid using `tokenizers` before the fork if possible\n",
      "\t- Explicitly set the environment variable TOKENIZERS_PARALLELISM=(true | false)\n",
      "huggingface/tokenizers: The current process just got forked, after parallelism has already been used. Disabling parallelism to avoid deadlocks...\n",
      "To disable this warning, you can either:\n",
      "\t- Avoid using `tokenizers` before the fork if possible\n",
      "\t- Explicitly set the environment variable TOKENIZERS_PARALLELISM=(true | false)\n",
      "huggingface/tokenizers: The current process just got forked, after parallelism has already been used. Disabling parallelism to avoid deadlocks...\n",
      "To disable this warning, you can either:\n",
      "\t- Avoid using `tokenizers` before the fork if possible\n",
      "\t- Explicitly set the environment variable TOKENIZERS_PARALLELISM=(true | false)\n",
      "huggingface/tokenizers: The current process just got forked, after parallelism has already been used. Disabling parallelism to avoid deadlocks...\n",
      "To disable this warning, you can either:\n",
      "\t- Avoid using `tokenizers` before the fork if possible\n",
      "\t- Explicitly set the environment variable TOKENIZERS_PARALLELISM=(true | false)\n"
     ]
    }
   ],
   "source": [
    "list_predited_label = []\n",
    "list_label = []\n",
    "with torch.no_grad():\n",
    "    for d in test_dataloader:\n",
    "        input_ids = d[\"input_ids\"].to(device) # .reshape(64, 24)\n",
    "        attention_mask = d[\"attention_mask\"].to(device)\n",
    "\n",
    "        outputs = model(input_ids, attention_mask)\n",
    "        logits = outputs[0]\n",
    "\n",
    "        _, prediction = torch.max(logits, dim=1)\n",
    "        targets = d[\"labels\"].detach().numpy().tolist()\n",
    "        prediction = prediction.cpu().detach().numpy().tolist()\n",
    "\n",
    "        list_label.extend(targets)\n",
    "        list_predited_label.extend(prediction)"
   ]
  },
  {
   "cell_type": "code",
   "execution_count": 19,
   "id": "287d83f4-7f7f-4da0-be0c-4ccbeb34f8fd",
   "metadata": {},
   "outputs": [
    {
     "name": "stdout",
     "output_type": "stream",
     "text": [
      "              precision    recall  f1-score   support\n",
      "\n",
      "           0      0.824     0.958     0.886     22151\n",
      "           1      0.941     0.767     0.845     19449\n",
      "\n",
      "    accuracy                          0.869     41600\n",
      "   macro avg      0.883     0.862     0.866     41600\n",
      "weighted avg      0.879     0.869     0.867     41600\n",
      "\n"
     ]
    }
   ],
   "source": [
    "print(classification_report(labels_saved, list_predited_label, digits=3))"
   ]
  },
  {
   "cell_type": "code",
   "execution_count": 20,
   "id": "354c9170-aae2-40da-aae7-9c0498f04de5",
   "metadata": {},
   "outputs": [
    {
     "name": "stdout",
     "output_type": "stream",
     "text": [
      "              precision    recall  f1-score   support\n",
      "\n",
      "           0      0.824     0.958     0.886     22151\n",
      "           1      0.941     0.767     0.845     19449\n",
      "\n",
      "    accuracy                          0.869     41600\n",
      "   macro avg      0.883     0.862     0.866     41600\n",
      "weighted avg      0.879     0.869     0.867     41600\n",
      "\n"
     ]
    }
   ],
   "source": [
    "print(classification_report(list_label, list_predited_label, digits=3))"
   ]
  },
  {
   "cell_type": "code",
   "execution_count": null,
   "id": "3c55af76-4ebb-43b7-a41d-72de5291454e",
   "metadata": {},
   "outputs": [],
   "source": [
    "              precision    recall  f1-score   support\n",
    "\n",
    "           0      0.824     0.958     0.886     22151\n",
    "           1      0.941     0.767     0.845     19449\n",
    "\n",
    "    accuracy                          0.869     41600\n",
    "   macro avg      0.883     0.862     0.866     41600\n",
    "weighted avg      0.879     0.869     0.867     41600"
   ]
  },
  {
   "cell_type": "markdown",
   "id": "6d806acb-4e4d-432f-ac45-5224f1def73a",
   "metadata": {},
   "source": [
    "# Sanity check"
   ]
  },
  {
   "cell_type": "code",
   "execution_count": 21,
   "id": "1ec78836-060d-4bf9-bfda-dea27e03b107",
   "metadata": {},
   "outputs": [],
   "source": [
    "from collections import Counter\n",
    "from sklearn.metrics import accuracy_score"
   ]
  },
  {
   "cell_type": "code",
   "execution_count": 22,
   "id": "1daf50ce-7deb-45ff-9ff2-dd4fc8a787df",
   "metadata": {},
   "outputs": [
    {
     "data": {
      "text/plain": [
       "Counter({True: 33001, False: 8599})"
      ]
     },
     "execution_count": 22,
     "metadata": {},
     "output_type": "execute_result"
    }
   ],
   "source": [
    "check_stupid_labels = [a==b for a,b in zip(list_predited_label_saved, list_predited_label)]\n",
    "Counter(check_stupid_labels)"
   ]
  },
  {
   "cell_type": "code",
   "execution_count": 28,
   "id": "e2c2b6a2-4fe6-4823-b692-8633c1ec9887",
   "metadata": {},
   "outputs": [],
   "source": [
    "tst_cnt = 30"
   ]
  },
  {
   "cell_type": "code",
   "execution_count": 29,
   "id": "3037ffbb-ae70-49f6-9d16-73a544fd6ad2",
   "metadata": {},
   "outputs": [
    {
     "data": {
      "text/plain": [
       "0.9666666666666667"
      ]
     },
     "execution_count": 29,
     "metadata": {},
     "output_type": "execute_result"
    }
   ],
   "source": [
    "accuracy_score(labels_saved[:tst_cnt], list_predited_label_saved[:tst_cnt])"
   ]
  },
  {
   "cell_type": "code",
   "execution_count": 30,
   "id": "82d1f855-54c6-4504-b97c-d9175d8050ff",
   "metadata": {},
   "outputs": [
    {
     "data": {
      "text/plain": [
       "0.9666666666666667"
      ]
     },
     "execution_count": 30,
     "metadata": {},
     "output_type": "execute_result"
    }
   ],
   "source": [
    "accuracy_score(labels_saved[:tst_cnt], list_predited_label[:tst_cnt])"
   ]
  },
  {
   "cell_type": "code",
   "execution_count": 31,
   "id": "e7e68efb-6db0-41a1-bd8d-be6e14e80ee1",
   "metadata": {},
   "outputs": [
    {
     "data": {
      "text/plain": [
       "Counter({True: 28, False: 2})"
      ]
     },
     "execution_count": 31,
     "metadata": {},
     "output_type": "execute_result"
    }
   ],
   "source": [
    "Counter([a==b for a,b in zip(list_predited_label_saved[:tst_cnt], list_predited_label[:tst_cnt])])"
   ]
  },
  {
   "cell_type": "code",
   "execution_count": 32,
   "id": "3dd70a59-8746-467e-85ec-56562727f89f",
   "metadata": {},
   "outputs": [
    {
     "name": "stdout",
     "output_type": "stream",
     "text": [
      "0 0 0\n",
      "0 0 0\n",
      "0 0 0\n",
      "0 0 0\n",
      "0 0 0\n",
      "0 0 0\n",
      "0 0 0\n",
      "0 0 0\n",
      "0 0 0\n",
      "0 0 0\n",
      "0 0 0\n",
      "0 0 0\n",
      "0 0 0\n",
      "0 0 0\n",
      "0 0 0\n",
      "0 0 0\n",
      "0 0 0\n",
      "0 0 0\n",
      "0 0 0\n",
      "0 0 0\n",
      "0 0 0\n",
      "0 0 0\n",
      "0 0 0\n",
      "0 0 0\n",
      "0 1 0\n",
      "0 0 0\n",
      "0 0 0\n",
      "0 0 1\n",
      "0 0 0\n",
      "0 0 0\n"
     ]
    }
   ],
   "source": [
    "for true, pr_saved, pr_inferred in zip(labels_saved[:tst_cnt],  list_predited_label_saved[:tst_cnt], list_predited_label[:tst_cnt]):\n",
    "    print(true, pr_saved, pr_inferred)"
   ]
  },
  {
   "cell_type": "code",
   "execution_count": 58,
   "id": "5789e4df-8e6e-46f0-8588-2213b690822c",
   "metadata": {},
   "outputs": [
    {
     "data": {
      "text/plain": [
       "False"
      ]
     },
     "execution_count": 58,
     "metadata": {},
     "output_type": "execute_result"
    }
   ],
   "source": [
    "list_predited_label_saved==list_predited_label"
   ]
  },
  {
   "cell_type": "code",
   "execution_count": 71,
   "id": "c2384d7d-ccfd-4183-829d-51f8b4dd76d6",
   "metadata": {},
   "outputs": [],
   "source": [
    "# ind = 0\n",
    "# for a,b in zip(list_predited_label, list_predited_label_saved):\n",
    "#     if a!=b:\n",
    "#         print(a,b, ind)\n",
    "        \n",
    "#     ind += 1    "
   ]
  },
  {
   "cell_type": "code",
   "execution_count": 59,
   "id": "2d24e0af-6f34-4bcc-ac4b-6d00ffb8d515",
   "metadata": {},
   "outputs": [
    {
     "data": {
      "text/plain": [
       "Counter({True: 41600})"
      ]
     },
     "execution_count": 59,
     "metadata": {},
     "output_type": "execute_result"
    }
   ],
   "source": [
    "Counter([a==b for a,b in zip(labels_saved, list_label)])"
   ]
  }
 ],
 "metadata": {
  "kernelspec": {
   "display_name": "Python 3 (ipykernel)",
   "language": "python",
   "name": "python3"
  },
  "language_info": {
   "codemirror_mode": {
    "name": "ipython",
    "version": 3
   },
   "file_extension": ".py",
   "mimetype": "text/x-python",
   "name": "python",
   "nbconvert_exporter": "python",
   "pygments_lexer": "ipython3",
   "version": "3.10.9"
  }
 },
 "nbformat": 4,
 "nbformat_minor": 5
}
