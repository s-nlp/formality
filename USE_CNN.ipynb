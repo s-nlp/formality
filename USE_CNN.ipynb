{
  "nbformat": 4,
  "nbformat_minor": 0,
  "metadata": {
    "colab": {
      "name": "USE-CNN.ipynb",
      "provenance": [],
      "collapsed_sections": [],
      "machine_shape": "hm"
    },
    "kernelspec": {
      "name": "python3",
      "display_name": "Python 3"
    },
    "language_info": {
      "name": "python"
    },
    "accelerator": "GPU"
  },
  "cells": [
    {
      "cell_type": "code",
      "metadata": {
        "id": "ioJKWN57SXM7",
        "colab": {
          "base_uri": "https://localhost:8080/"
        },
        "outputId": "20792640-ad6b-4c10-c5cf-ccd687a19841"
      },
      "source": [
        "!pip install tensorflow_text"
      ],
      "execution_count": null,
      "outputs": [
        {
          "output_type": "stream",
          "name": "stdout",
          "text": [
            "Collecting tensorflow_text\n",
            "  Downloading tensorflow_text-2.7.0-cp37-cp37m-manylinux2010_x86_64.whl (4.9 MB)\n",
            "\u001b[K     |████████████████████████████████| 4.9 MB 10.0 MB/s \n",
            "\u001b[?25hRequirement already satisfied: tensorflow-hub>=0.8.0 in /usr/local/lib/python3.7/dist-packages (from tensorflow_text) (0.12.0)\n",
            "Requirement already satisfied: tensorflow<2.8,>=2.7.0 in /usr/local/lib/python3.7/dist-packages (from tensorflow_text) (2.7.0)\n",
            "Requirement already satisfied: opt-einsum>=2.3.2 in /usr/local/lib/python3.7/dist-packages (from tensorflow<2.8,>=2.7.0->tensorflow_text) (3.3.0)\n",
            "Requirement already satisfied: tensorflow-io-gcs-filesystem>=0.21.0 in /usr/local/lib/python3.7/dist-packages (from tensorflow<2.8,>=2.7.0->tensorflow_text) (0.21.0)\n",
            "Requirement already satisfied: google-pasta>=0.1.1 in /usr/local/lib/python3.7/dist-packages (from tensorflow<2.8,>=2.7.0->tensorflow_text) (0.2.0)\n",
            "Requirement already satisfied: typing-extensions>=3.6.6 in /usr/local/lib/python3.7/dist-packages (from tensorflow<2.8,>=2.7.0->tensorflow_text) (3.10.0.2)\n",
            "Requirement already satisfied: wrapt>=1.11.0 in /usr/local/lib/python3.7/dist-packages (from tensorflow<2.8,>=2.7.0->tensorflow_text) (1.13.3)\n",
            "Requirement already satisfied: grpcio<2.0,>=1.24.3 in /usr/local/lib/python3.7/dist-packages (from tensorflow<2.8,>=2.7.0->tensorflow_text) (1.41.1)\n",
            "Requirement already satisfied: protobuf>=3.9.2 in /usr/local/lib/python3.7/dist-packages (from tensorflow<2.8,>=2.7.0->tensorflow_text) (3.17.3)\n",
            "Requirement already satisfied: tensorflow-estimator<2.8,~=2.7.0rc0 in /usr/local/lib/python3.7/dist-packages (from tensorflow<2.8,>=2.7.0->tensorflow_text) (2.7.0)\n",
            "Requirement already satisfied: gast<0.5.0,>=0.2.1 in /usr/local/lib/python3.7/dist-packages (from tensorflow<2.8,>=2.7.0->tensorflow_text) (0.4.0)\n",
            "Requirement already satisfied: tensorboard~=2.6 in /usr/local/lib/python3.7/dist-packages (from tensorflow<2.8,>=2.7.0->tensorflow_text) (2.7.0)\n",
            "Requirement already satisfied: wheel<1.0,>=0.32.0 in /usr/local/lib/python3.7/dist-packages (from tensorflow<2.8,>=2.7.0->tensorflow_text) (0.37.0)\n",
            "Requirement already satisfied: h5py>=2.9.0 in /usr/local/lib/python3.7/dist-packages (from tensorflow<2.8,>=2.7.0->tensorflow_text) (3.1.0)\n",
            "Requirement already satisfied: six>=1.12.0 in /usr/local/lib/python3.7/dist-packages (from tensorflow<2.8,>=2.7.0->tensorflow_text) (1.15.0)\n",
            "Requirement already satisfied: absl-py>=0.4.0 in /usr/local/lib/python3.7/dist-packages (from tensorflow<2.8,>=2.7.0->tensorflow_text) (0.12.0)\n",
            "Requirement already satisfied: termcolor>=1.1.0 in /usr/local/lib/python3.7/dist-packages (from tensorflow<2.8,>=2.7.0->tensorflow_text) (1.1.0)\n",
            "Requirement already satisfied: keras<2.8,>=2.7.0rc0 in /usr/local/lib/python3.7/dist-packages (from tensorflow<2.8,>=2.7.0->tensorflow_text) (2.7.0)\n",
            "Requirement already satisfied: numpy>=1.14.5 in /usr/local/lib/python3.7/dist-packages (from tensorflow<2.8,>=2.7.0->tensorflow_text) (1.19.5)\n",
            "Requirement already satisfied: flatbuffers<3.0,>=1.12 in /usr/local/lib/python3.7/dist-packages (from tensorflow<2.8,>=2.7.0->tensorflow_text) (2.0)\n",
            "Requirement already satisfied: keras-preprocessing>=1.1.1 in /usr/local/lib/python3.7/dist-packages (from tensorflow<2.8,>=2.7.0->tensorflow_text) (1.1.2)\n",
            "Requirement already satisfied: libclang>=9.0.1 in /usr/local/lib/python3.7/dist-packages (from tensorflow<2.8,>=2.7.0->tensorflow_text) (12.0.0)\n",
            "Requirement already satisfied: astunparse>=1.6.0 in /usr/local/lib/python3.7/dist-packages (from tensorflow<2.8,>=2.7.0->tensorflow_text) (1.6.3)\n",
            "Requirement already satisfied: cached-property in /usr/local/lib/python3.7/dist-packages (from h5py>=2.9.0->tensorflow<2.8,>=2.7.0->tensorflow_text) (1.5.2)\n",
            "Requirement already satisfied: google-auth<3,>=1.6.3 in /usr/local/lib/python3.7/dist-packages (from tensorboard~=2.6->tensorflow<2.8,>=2.7.0->tensorflow_text) (1.35.0)\n",
            "Requirement already satisfied: tensorboard-data-server<0.7.0,>=0.6.0 in /usr/local/lib/python3.7/dist-packages (from tensorboard~=2.6->tensorflow<2.8,>=2.7.0->tensorflow_text) (0.6.1)\n",
            "Requirement already satisfied: werkzeug>=0.11.15 in /usr/local/lib/python3.7/dist-packages (from tensorboard~=2.6->tensorflow<2.8,>=2.7.0->tensorflow_text) (1.0.1)\n",
            "Requirement already satisfied: requests<3,>=2.21.0 in /usr/local/lib/python3.7/dist-packages (from tensorboard~=2.6->tensorflow<2.8,>=2.7.0->tensorflow_text) (2.23.0)\n",
            "Requirement already satisfied: google-auth-oauthlib<0.5,>=0.4.1 in /usr/local/lib/python3.7/dist-packages (from tensorboard~=2.6->tensorflow<2.8,>=2.7.0->tensorflow_text) (0.4.6)\n",
            "Requirement already satisfied: tensorboard-plugin-wit>=1.6.0 in /usr/local/lib/python3.7/dist-packages (from tensorboard~=2.6->tensorflow<2.8,>=2.7.0->tensorflow_text) (1.8.0)\n",
            "Requirement already satisfied: markdown>=2.6.8 in /usr/local/lib/python3.7/dist-packages (from tensorboard~=2.6->tensorflow<2.8,>=2.7.0->tensorflow_text) (3.3.4)\n",
            "Requirement already satisfied: setuptools>=41.0.0 in /usr/local/lib/python3.7/dist-packages (from tensorboard~=2.6->tensorflow<2.8,>=2.7.0->tensorflow_text) (57.4.0)\n",
            "Requirement already satisfied: rsa<5,>=3.1.4 in /usr/local/lib/python3.7/dist-packages (from google-auth<3,>=1.6.3->tensorboard~=2.6->tensorflow<2.8,>=2.7.0->tensorflow_text) (4.7.2)\n",
            "Requirement already satisfied: cachetools<5.0,>=2.0.0 in /usr/local/lib/python3.7/dist-packages (from google-auth<3,>=1.6.3->tensorboard~=2.6->tensorflow<2.8,>=2.7.0->tensorflow_text) (4.2.4)\n",
            "Requirement already satisfied: pyasn1-modules>=0.2.1 in /usr/local/lib/python3.7/dist-packages (from google-auth<3,>=1.6.3->tensorboard~=2.6->tensorflow<2.8,>=2.7.0->tensorflow_text) (0.2.8)\n",
            "Requirement already satisfied: requests-oauthlib>=0.7.0 in /usr/local/lib/python3.7/dist-packages (from google-auth-oauthlib<0.5,>=0.4.1->tensorboard~=2.6->tensorflow<2.8,>=2.7.0->tensorflow_text) (1.3.0)\n",
            "Requirement already satisfied: importlib-metadata in /usr/local/lib/python3.7/dist-packages (from markdown>=2.6.8->tensorboard~=2.6->tensorflow<2.8,>=2.7.0->tensorflow_text) (4.8.2)\n",
            "Requirement already satisfied: pyasn1<0.5.0,>=0.4.6 in /usr/local/lib/python3.7/dist-packages (from pyasn1-modules>=0.2.1->google-auth<3,>=1.6.3->tensorboard~=2.6->tensorflow<2.8,>=2.7.0->tensorflow_text) (0.4.8)\n",
            "Requirement already satisfied: chardet<4,>=3.0.2 in /usr/local/lib/python3.7/dist-packages (from requests<3,>=2.21.0->tensorboard~=2.6->tensorflow<2.8,>=2.7.0->tensorflow_text) (3.0.4)\n",
            "Requirement already satisfied: idna<3,>=2.5 in /usr/local/lib/python3.7/dist-packages (from requests<3,>=2.21.0->tensorboard~=2.6->tensorflow<2.8,>=2.7.0->tensorflow_text) (2.10)\n",
            "Requirement already satisfied: certifi>=2017.4.17 in /usr/local/lib/python3.7/dist-packages (from requests<3,>=2.21.0->tensorboard~=2.6->tensorflow<2.8,>=2.7.0->tensorflow_text) (2021.10.8)\n",
            "Requirement already satisfied: urllib3!=1.25.0,!=1.25.1,<1.26,>=1.21.1 in /usr/local/lib/python3.7/dist-packages (from requests<3,>=2.21.0->tensorboard~=2.6->tensorflow<2.8,>=2.7.0->tensorflow_text) (1.24.3)\n",
            "Requirement already satisfied: oauthlib>=3.0.0 in /usr/local/lib/python3.7/dist-packages (from requests-oauthlib>=0.7.0->google-auth-oauthlib<0.5,>=0.4.1->tensorboard~=2.6->tensorflow<2.8,>=2.7.0->tensorflow_text) (3.1.1)\n",
            "Requirement already satisfied: zipp>=0.5 in /usr/local/lib/python3.7/dist-packages (from importlib-metadata->markdown>=2.6.8->tensorboard~=2.6->tensorflow<2.8,>=2.7.0->tensorflow_text) (3.6.0)\n",
            "Installing collected packages: tensorflow-text\n",
            "Successfully installed tensorflow-text-2.7.0\n"
          ]
        }
      ]
    },
    {
      "cell_type": "code",
      "metadata": {
        "id": "6Tg8Aj10LCJn"
      },
      "source": [
        "import os\n",
        "from glob import glob\n",
        "\n",
        "import tensorflow as tf\n",
        "import tensorflow_hub as hub\n",
        "import tensorflow_text"
      ],
      "execution_count": null,
      "outputs": []
    },
    {
      "cell_type": "code",
      "metadata": {
        "id": "DD3B9WvyNffB",
        "colab": {
          "base_uri": "https://localhost:8080/"
        },
        "outputId": "27c0429d-2481-482c-b5f6-1d4f7ff33943"
      },
      "source": [
        "dir_path = 'XFORMAL'\n",
        "file_path = dir_path + '.zip'\n",
        "if not os.path.isdir(dir_path):\n",
        "    if not os.path.isfile(file_path):\n",
        "        !wget -O XFORMAL.zip \"https://docs.google.com/uc?export=download&id=1cF8AXSQ1OZhgIbaIBWc3n8xgj2_prY8C\"\n",
        "    !7z x XFORMAL.zip\n",
        "\n",
        "    for i in glob('XFORMAL/gyafc_translated/*/*/*/'):\n",
        "        list_files = os.listdir(i)\n",
        "        informal_path = os.path.join(i, '1_informal')\n",
        "        os.mkdir(informal_path)\n",
        "        formal_path = os.path.join(i, '1_formal')\n",
        "        os.mkdir(formal_path)\n",
        "        for j in list_files:\n",
        "            if 'informal' in j:\n",
        "                os.rename(\n",
        "                    os.path.join(i, j),\n",
        "                    os.path.join(informal_path, j),\n",
        "                )\n",
        "            else:\n",
        "                os.rename(\n",
        "                    os.path.join(i, j),\n",
        "                    os.path.join(formal_path, j),\n",
        "                )\n",
        "        os.rename(informal_path, os.path.join(i, 'informal'))\n",
        "        os.rename(formal_path, os.path.join(i, 'formal'))"
      ],
      "execution_count": null,
      "outputs": [
        {
          "output_type": "stream",
          "name": "stdout",
          "text": [
            "--2021-11-15 16:39:48--  https://docs.google.com/uc?export=download&id=1cF8AXSQ1OZhgIbaIBWc3n8xgj2_prY8C\n",
            "Resolving docs.google.com (docs.google.com)... 74.125.142.100, 74.125.142.101, 74.125.142.102, ...\n",
            "Connecting to docs.google.com (docs.google.com)|74.125.142.100|:443... connected.\n",
            "HTTP request sent, awaiting response... 302 Moved Temporarily\n",
            "Location: https://doc-04-4c-docs.googleusercontent.com/docs/securesc/ha0ro937gcuc7l7deffksulhg5h7mbp1/9shb8och0ov06q1qkp9mpl3hgploao5i/1636994400000/01047558856633083828/*/1cF8AXSQ1OZhgIbaIBWc3n8xgj2_prY8C?e=download [following]\n",
            "Warning: wildcards not supported in HTTP.\n",
            "--2021-11-15 16:40:10--  https://doc-04-4c-docs.googleusercontent.com/docs/securesc/ha0ro937gcuc7l7deffksulhg5h7mbp1/9shb8och0ov06q1qkp9mpl3hgploao5i/1636994400000/01047558856633083828/*/1cF8AXSQ1OZhgIbaIBWc3n8xgj2_prY8C?e=download\n",
            "Resolving doc-04-4c-docs.googleusercontent.com (doc-04-4c-docs.googleusercontent.com)... 74.125.199.132, 2607:f8b0:400e:c02::84\n",
            "Connecting to doc-04-4c-docs.googleusercontent.com (doc-04-4c-docs.googleusercontent.com)|74.125.199.132|:443... connected.\n",
            "HTTP request sent, awaiting response... 200 OK\n",
            "Length: 20420295 (19M) [application/x-7z-compressed]\n",
            "Saving to: ‘XFORMAL.zip’\n",
            "\n",
            "XFORMAL.zip         100%[===================>]  19.47M  81.8MB/s    in 0.2s    \n",
            "\n",
            "2021-11-15 16:40:10 (81.8 MB/s) - ‘XFORMAL.zip’ saved [20420295/20420295]\n",
            "\n",
            "\n",
            "7-Zip [64] 16.02 : Copyright (c) 1999-2016 Igor Pavlov : 2016-05-21\n",
            "p7zip Version 16.02 (locale=en_US.UTF-8,Utf16=on,HugeFiles=on,64 bits,4 CPUs Intel(R) Xeon(R) CPU @ 2.20GHz (406F0),ASM,AES-NI)\n",
            "\n",
            "Scanning the drive for archives:\n",
            "  0M Scan\b\b\b\b\b\b\b\b\b         \b\b\b\b\b\b\b\b\b1 file, 20420295 bytes (20 MiB)\n",
            "\n",
            "Extracting archive: XFORMAL.zip\n",
            "WARNING:\n",
            "XFORMAL.zip\n",
            "Can not open the file as [zip] archive\n",
            "The file is open as [7z] archive\n",
            "\n",
            "--\n",
            "Path = XFORMAL.zip\n",
            "Open WARNING: Can not open the file as [zip] archive\n",
            "Type = 7z\n",
            "Physical Size = 20420295\n",
            "Headers Size = 3612\n",
            "Method = LZMA2:24\n",
            "Solid = +\n",
            "Blocks = 1\n",
            "\n",
            "  0%\b\b\b\b    \b\b\b\b 12% 102 - XFORMAL/gyafc_translated/en/Family_Relationships/tune/formal\b\b\b\b\b\b\b\b\b\b\b\b\b\b\b\b\b\b\b\b\b\b\b\b\b\b\b\b\b\b\b\b\b\b\b\b\b\b\b\b\b\b\b\b\b\b\b\b\b\b\b\b\b\b\b\b\b\b\b\b\b\b\b\b\b\b\b\b\b\b\b                                                                       \b\b\b\b\b\b\b\b\b\b\b\b\b\b\b\b\b\b\b\b\b\b\b\b\b\b\b\b\b\b\b\b\b\b\b\b\b\b\b\b\b\b\b\b\b\b\b\b\b\b\b\b\b\b\b\b\b\b\b\b\b\b\b\b\b\b\b\b\b\b\b 32% 148 - XFORMAL/gyafc_translated/fr/Family_Relationships/tune/formal\b\b\b\b\b\b\b\b\b\b\b\b\b\b\b\b\b\b\b\b\b\b\b\b\b\b\b\b\b\b\b\b\b\b\b\b\b\b\b\b\b\b\b\b\b\b\b\b\b\b\b\b\b\b\b\b\b\b\b\b\b\b\b\b\b\b\b\b\b\b\b                                                                       \b\b\b\b\b\b\b\b\b\b\b\b\b\b\b\b\b\b\b\b\b\b\b\b\b\b\b\b\b\b\b\b\b\b\b\b\b\b\b\b\b\b\b\b\b\b\b\b\b\b\b\b\b\b\b\b\b\b\b\b\b\b\b\b\b\b\b\b\b\b\b 51% 192 - XFORMAL/gyafc_translated/it/Family_Relationships/train/formal\b\b\b\b\b\b\b\b\b\b\b\b\b\b\b\b\b\b\b\b\b\b\b\b\b\b\b\b\b\b\b\b\b\b\b\b\b\b\b\b\b\b\b\b\b\b\b\b\b\b\b\b\b\b\b\b\b\b\b\b\b\b\b\b\b\b\b\b\b\b\b\b                                                                        \b\b\b\b\b\b\b\b\b\b\b\b\b\b\b\b\b\b\b\b\b\b\b\b\b\b\b\b\b\b\b\b\b\b\b\b\b\b\b\b\b\b\b\b\b\b\b\b\b\b\b\b\b\b\b\b\b\b\b\b\b\b\b\b\b\b\b\b\b\b\b\b 65% 237 - XFORMAL/gyafc_translated/pt/Family_Relationships/train/informal\b\b\b\b\b\b\b\b\b\b\b\b\b\b\b\b\b\b\b\b\b\b\b\b\b\b\b\b\b\b\b\b\b\b\b\b\b\b\b\b\b\b\b\b\b\b\b\b\b\b\b\b\b\b\b\b\b\b\b\b\b\b\b\b\b\b\b\b\b\b\b\b\b\b                                                                          \b\b\b\b\b\b\b\b\b\b\b\b\b\b\b\b\b\b\b\b\b\b\b\b\b\b\b\b\b\b\b\b\b\b\b\b\b\b\b\b\b\b\b\b\b\b\b\b\b\b\b\b\b\b\b\b\b\b\b\b\b\b\b\b\b\b\b\b\b\b\b\b\b\b 86% 283 - XFORMAL/gyafc_translated/ru/Family_Relationships/train/informal_ru\b\b\b\b\b\b\b\b\b\b\b\b\b\b\b\b\b\b\b\b\b\b\b\b\b\b\b\b\b\b\b\b\b\b\b\b\b\b\b\b\b\b\b\b\b\b\b\b\b\b\b\b\b\b\b\b\b\b\b\b\b\b\b\b\b\b\b\b\b\b\b\b\b\b\b\b\b                                                                             \b\b\b\b\b\b\b\b\b\b\b\b\b\b\b\b\b\b\b\b\b\b\b\b\b\b\b\b\b\b\b\b\b\b\b\b\b\b\b\b\b\b\b\b\b\b\b\b\b\b\b\b\b\b\b\b\b\b\b\b\b\b\b\b\b\b\b\b\b\b\b\b\b\b\b\b\bEverything is Ok\n",
            "\n",
            "Archives with Warnings: 1\n",
            "Folders: 53\n",
            "Files: 260\n",
            "Size:       97168493\n",
            "Compressed: 20420295\n"
          ]
        }
      ]
    },
    {
      "cell_type": "code",
      "metadata": {
        "id": "6zPyCr16Q7zk"
      },
      "source": [
        "def get_label(file_path):\n",
        "    parts = tf.strings.split(file_path, os.path.sep)\n",
        "\n",
        "    # Note: You'll use indexing here instead of tuple unpacking to enable this \n",
        "    # to work in a TensorFlow graph.\n",
        "    return parts[-2]"
      ],
      "execution_count": null,
      "outputs": []
    },
    {
      "cell_type": "code",
      "metadata": {
        "id": "zCYRCPtqfNno"
      },
      "source": [
        "class_names = ['formal', 'informal']"
      ],
      "execution_count": null,
      "outputs": []
    },
    {
      "cell_type": "code",
      "metadata": {
        "id": "cqzKgjSefMro"
      },
      "source": [
        "def labeler(example, example_path):\n",
        "    return example, tf.argmax(get_label(example_path) == class_names)"
      ],
      "execution_count": null,
      "outputs": []
    },
    {
      "cell_type": "code",
      "metadata": {
        "id": "J5Rtkg6uWKbm"
      },
      "source": [
        "data_path = 'XFORMAL/gyafc_translated/{}/*/{}/*/*'"
      ],
      "execution_count": null,
      "outputs": []
    },
    {
      "cell_type": "code",
      "metadata": {
        "id": "ghjBSrJ0hwDK"
      },
      "source": [
        "BATCH_SIZE = 512\n",
        "BUFFER_SIZE = 200000"
      ],
      "execution_count": null,
      "outputs": []
    },
    {
      "cell_type": "code",
      "metadata": {
        "id": "VzSL9woWa77L"
      },
      "source": [
        "def create(path_dataset, train=False):\n",
        "    labeled_data_sets = []\n",
        "\n",
        "    for file_name in glob(path_dataset):\n",
        "        lines_dataset = tf.data.TextLineDataset(file_name)\n",
        "        labeled_dataset = lines_dataset.map(lambda ex: labeler(ex, file_name))\n",
        "        labeled_data_sets.append(labeled_dataset)\n",
        "    \n",
        "    all_labeled_data = labeled_data_sets[0]\n",
        "    for labeled_dataset in labeled_data_sets[1:]:\n",
        "        all_labeled_data = all_labeled_data.concatenate(labeled_dataset)\n",
        "    if train:\n",
        "        all_labeled_data = all_labeled_data.shuffle(BUFFER_SIZE)\n",
        "    all_labeled_data = all_labeled_data.batch(BATCH_SIZE)\n",
        "    return all_labeled_data"
      ],
      "execution_count": null,
      "outputs": []
    },
    {
      "cell_type": "code",
      "metadata": {
        "id": "OqtncqTRXTRj"
      },
      "source": [
        "# train_dataset = create(data_path.format('train'), True)\n",
        "# valid_dataset = create(data_path.format('test'))"
      ],
      "execution_count": null,
      "outputs": []
    },
    {
      "cell_type": "code",
      "metadata": {
        "id": "fgmTgdrnOqDj"
      },
      "source": [
        "embedding_layer = hub.KerasLayer(\"https://tfhub.dev/google/universal-sentence-encoder-multilingual/3\", trainable=True)"
      ],
      "execution_count": null,
      "outputs": []
    },
    {
      "cell_type": "code",
      "metadata": {
        "colab": {
          "base_uri": "https://localhost:8080/"
        },
        "id": "OdVoA83El3wz",
        "outputId": "dbf08c76-816d-4a53-b2df-a4d1a5d1c9ef"
      },
      "source": [
        "embedding_layer(['hello'])"
      ],
      "execution_count": null,
      "outputs": [
        {
          "output_type": "execute_result",
          "data": {
            "text/plain": [
              "<tf.Tensor: shape=(1, 512), dtype=float32, numpy=\n",
              "array([[ 1.24289773e-01,  8.28480534e-03, -1.83482151e-02,\n",
              "         5.67233469e-03, -1.06630079e-01, -1.12285828e-02,\n",
              "        -9.37436055e-03,  5.26803844e-02, -7.13109672e-02,\n",
              "        -1.13984132e-02, -4.09893431e-02, -3.93921398e-02,\n",
              "         2.86357533e-02, -1.15787508e-02, -7.68727884e-02,\n",
              "        -6.30869251e-03,  4.21444550e-02,  4.69250139e-03,\n",
              "         3.84257063e-02, -8.05334002e-03,  3.06332167e-02,\n",
              "         1.05655655e-01,  9.70294792e-03, -5.48715927e-02,\n",
              "         7.41304308e-02,  3.04581523e-02,  2.49440204e-02,\n",
              "        -3.77580873e-03, -2.09636502e-02,  1.75199229e-02,\n",
              "        -8.98099691e-03, -3.38733047e-02, -3.86001021e-02,\n",
              "        -7.62207806e-02,  5.28796576e-02, -1.21068269e-01,\n",
              "        -4.35939096e-02,  2.66841445e-02, -4.29487005e-02,\n",
              "         3.19739766e-02, -2.41370201e-02,  1.14430971e-02,\n",
              "        -2.62515619e-02, -3.47538590e-02, -1.58155859e-02,\n",
              "        -2.07496015e-03, -3.48410830e-02, -1.57976020e-02,\n",
              "         6.07019030e-02, -2.58319988e-03, -1.88063420e-02,\n",
              "         4.09895331e-02,  6.33229828e-03,  5.30284271e-03,\n",
              "        -4.40075528e-03, -1.26469702e-01, -2.25256197e-03,\n",
              "         1.00098848e-02,  3.83056141e-02,  6.90974891e-02,\n",
              "        -1.19428514e-02, -7.77375698e-03, -1.60761327e-02,\n",
              "         4.64463495e-02, -6.41763136e-02,  2.23108698e-02,\n",
              "         6.14672601e-02, -5.51060261e-03,  2.76499428e-02,\n",
              "         1.13587230e-02,  7.36809596e-02, -3.33063267e-02,\n",
              "        -5.68934307e-02, -1.75229367e-02, -3.39496471e-02,\n",
              "        -2.28973515e-02,  2.93099172e-02, -2.17819139e-02,\n",
              "         5.83061017e-02,  1.28250659e-01, -1.29322663e-01,\n",
              "         2.79159937e-02,  1.61704943e-02,  2.60701627e-02,\n",
              "        -2.61299908e-02, -2.65345722e-03, -2.56999452e-02,\n",
              "        -4.57381159e-02, -1.60400998e-02,  5.97727858e-02,\n",
              "         2.33028084e-02, -5.87965623e-02, -5.74962832e-02,\n",
              "         3.77462544e-02,  9.34996549e-03, -1.98321342e-02,\n",
              "        -6.76072314e-02, -1.71213299e-02,  7.02580065e-02,\n",
              "         5.24163172e-02,  9.65657365e-03, -6.70057982e-02,\n",
              "         1.05368517e-01, -1.72287673e-02, -1.89334843e-02,\n",
              "        -3.31010148e-02,  1.93743908e-04, -4.42583561e-02,\n",
              "         3.90049592e-02, -5.16929105e-02, -5.61724454e-02,\n",
              "         5.06304242e-02,  1.40980538e-03, -2.98840664e-02,\n",
              "         2.23546172e-03, -3.45813446e-02, -1.41709074e-02,\n",
              "        -4.61496897e-02, -1.09802373e-02, -2.53960043e-02,\n",
              "         6.47137761e-02, -3.11230347e-02, -1.22234914e-02,\n",
              "         4.18133996e-02, -2.70737186e-02, -4.41371128e-02,\n",
              "        -4.09719907e-02,  1.05930232e-01, -1.16126724e-02,\n",
              "        -5.64309917e-02,  1.90087967e-02,  5.09749912e-02,\n",
              "        -9.27876960e-03,  6.93426887e-03, -9.62789506e-02,\n",
              "        -1.14621744e-01,  6.90341517e-02,  2.34795995e-02,\n",
              "        -5.27172014e-02,  7.56112039e-02, -4.83428985e-02,\n",
              "        -7.14349374e-02, -3.83786038e-02,  3.89023032e-03,\n",
              "        -1.00469276e-01,  4.40504253e-02,  8.63631740e-02,\n",
              "        -3.70533280e-02,  8.67297780e-03, -9.59162507e-03,\n",
              "        -1.00335954e-02, -1.90304462e-02, -6.98496774e-03,\n",
              "        -9.25327092e-03, -5.99725991e-02, -1.09426361e-02,\n",
              "        -1.22321704e-02,  2.45489478e-02,  3.62859331e-02,\n",
              "        -3.74708399e-02, -6.40001893e-02,  4.51280661e-02,\n",
              "        -2.59987060e-02,  6.41273484e-02, -2.85803434e-02,\n",
              "         7.69077241e-02, -1.54610695e-02, -9.26316623e-03,\n",
              "         7.63289211e-03, -4.08694856e-02, -3.83072868e-02,\n",
              "         4.01319638e-02, -5.98186851e-02, -3.09253130e-02,\n",
              "         1.14081167e-02, -3.91697735e-02, -5.13828471e-02,\n",
              "        -9.78259742e-03,  4.07434963e-02, -4.17911522e-02,\n",
              "         5.94800785e-02,  1.73916798e-02, -4.54955846e-02,\n",
              "        -1.06365103e-02, -4.05359529e-02,  5.80623597e-02,\n",
              "         2.26530097e-02,  1.40807489e-02, -7.18775243e-02,\n",
              "        -1.55240465e-02,  2.97158938e-02,  1.49188126e-02,\n",
              "        -5.12620285e-02,  4.90555400e-03, -2.49067638e-02,\n",
              "         1.56954862e-02,  5.47790490e-02,  5.07770702e-02,\n",
              "         2.55295932e-02, -1.15018710e-02,  9.63800848e-02,\n",
              "        -2.02762615e-02,  2.46736072e-02,  4.53769341e-02,\n",
              "         9.79023054e-03, -1.05957454e-02,  1.04287220e-02,\n",
              "         5.23535302e-03, -4.46038358e-02, -3.54079716e-02,\n",
              "         7.07025081e-02, -3.24962512e-02, -3.33352126e-02,\n",
              "         4.36259843e-02,  2.06102189e-02,  2.12233532e-02,\n",
              "        -4.46636640e-02,  6.09516762e-02,  5.14389239e-02,\n",
              "        -3.41286138e-02,  1.08407643e-02, -4.19308506e-02,\n",
              "         4.38688137e-02,  4.15061451e-02,  1.06437199e-01,\n",
              "        -3.43127623e-02,  2.04684325e-02, -3.90412360e-02,\n",
              "         1.84285603e-02,  1.44124376e-02,  2.02117693e-02,\n",
              "        -1.96986292e-02, -3.64192165e-02, -1.98435169e-02,\n",
              "         2.01793611e-02,  5.41223995e-02, -8.38598423e-03,\n",
              "        -7.60098845e-02, -2.05109287e-02, -3.95280942e-02,\n",
              "        -1.70422290e-02,  3.46102938e-02,  6.16815314e-02,\n",
              "        -2.74301581e-02, -2.96772982e-04, -3.18447277e-02,\n",
              "         6.39700443e-02, -3.72789390e-02, -5.11747561e-02,\n",
              "        -2.66114697e-02,  9.49149951e-02,  3.53253074e-02,\n",
              "         5.25692403e-02,  2.98929252e-02, -7.71519169e-02,\n",
              "         4.19020951e-02, -1.05435373e-02, -4.96894978e-02,\n",
              "         1.88636556e-02, -5.54368533e-02, -7.83404559e-02,\n",
              "         1.72433313e-02,  1.39605599e-02, -5.08233905e-03,\n",
              "        -2.04847287e-02, -5.91146499e-02, -3.38727012e-02,\n",
              "         7.68633466e-03, -4.06354778e-02,  2.69990135e-02,\n",
              "         2.58914530e-02,  4.40204795e-03, -8.29950944e-02,\n",
              "         4.08442020e-02,  6.06612936e-02, -1.88622382e-02,\n",
              "        -1.23844473e-02,  4.00855131e-02,  4.53742407e-02,\n",
              "        -1.70028172e-02,  7.79054686e-03, -5.27152978e-02,\n",
              "        -3.93296480e-02, -2.07056236e-02,  1.55533804e-02,\n",
              "         4.58957143e-02, -3.19681130e-02,  2.34277602e-02,\n",
              "         1.52180064e-02, -1.07055120e-02,  1.81920230e-02,\n",
              "        -4.18959744e-03, -4.04115021e-03, -5.55338748e-02,\n",
              "         5.36414571e-02, -3.95851098e-02,  2.02282500e-02,\n",
              "         1.17075443e-02,  5.99080697e-03,  2.58610472e-02,\n",
              "         4.45418991e-03,  4.79036495e-02,  8.08353722e-03,\n",
              "        -3.97943668e-02,  1.98110826e-02,  1.99340079e-02,\n",
              "        -6.41394258e-02,  7.00808465e-02, -5.36848940e-02,\n",
              "        -2.24453881e-02,  2.92093866e-02,  2.97770482e-02,\n",
              "         2.86050681e-02,  4.53961790e-02,  4.80224043e-02,\n",
              "        -3.18709644e-03, -2.09717080e-02, -5.59937535e-03,\n",
              "        -4.99316789e-02, -1.15414634e-02, -4.88507450e-02,\n",
              "         4.78190146e-02, -8.94321874e-02, -5.77068739e-02,\n",
              "         6.20853528e-02, -1.07941935e-02, -6.83913054e-03,\n",
              "         5.45784794e-02,  2.98131276e-02, -6.31156564e-02,\n",
              "         3.62154543e-02, -3.96099538e-02, -1.06310867e-01,\n",
              "         6.69075688e-03,  2.71213707e-03,  7.62052974e-03,\n",
              "        -9.50333290e-03, -1.58848464e-02, -1.02259852e-01,\n",
              "         7.50518143e-02,  8.68022500e-04,  2.94201430e-02,\n",
              "        -4.33208272e-02,  1.40298735e-02,  3.68453935e-02,\n",
              "         8.92599225e-02, -2.56431568e-02, -1.88646782e-02,\n",
              "         2.71304958e-02,  4.01703194e-02, -6.87333792e-02,\n",
              "         2.64240708e-02,  1.18423268e-04,  2.12421305e-02,\n",
              "         2.27238424e-02, -2.82352511e-03,  3.22685614e-02,\n",
              "        -2.07743421e-02, -6.74294680e-02, -4.08568308e-02,\n",
              "        -5.45291463e-03,  2.37958096e-02,  5.72402123e-03,\n",
              "        -4.43141814e-03,  6.26803096e-03, -3.83457355e-02,\n",
              "        -1.25791598e-02, -1.12476766e-01, -5.42504080e-02,\n",
              "        -1.44100161e-02,  3.15476395e-02, -6.59390241e-02,\n",
              "         6.64426421e-04, -5.48307113e-02,  2.81832404e-02,\n",
              "         2.46929638e-02, -8.20892453e-02, -9.52767860e-03,\n",
              "        -3.24640237e-02, -1.20512554e-02, -3.72729301e-02,\n",
              "        -2.30864622e-03,  2.43924670e-02,  3.22256945e-02,\n",
              "         3.53124589e-02, -1.93682183e-02, -4.12621684e-02,\n",
              "        -4.53435443e-02, -7.70402998e-02,  2.70500518e-02,\n",
              "        -5.15118474e-03, -2.89130099e-02,  7.00407848e-03,\n",
              "        -9.63464603e-02, -3.82378660e-02,  4.81437370e-02,\n",
              "         1.79503281e-02,  7.93394968e-02, -2.85954326e-02,\n",
              "         3.02942786e-02, -6.54768869e-02, -6.62109291e-04,\n",
              "         4.17763554e-02, -4.01654318e-02, -5.40810078e-03,\n",
              "        -3.50633748e-02,  5.76832592e-02, -2.19346024e-02,\n",
              "         3.22781280e-02,  2.70015020e-02, -4.78354543e-02,\n",
              "        -1.33725526e-02,  4.27763956e-03, -3.37771885e-02,\n",
              "         6.89681713e-03,  1.52751151e-02, -5.95776066e-02,\n",
              "        -2.72779679e-03, -1.49061475e-02,  4.78565320e-03,\n",
              "         6.81784526e-02,  9.10610612e-03,  1.96640454e-02,\n",
              "        -4.65633571e-02, -6.61190450e-02,  4.85447347e-02,\n",
              "        -3.65998223e-02, -3.80601250e-02,  3.57323769e-03,\n",
              "         4.58591757e-03,  3.46743390e-02,  3.19923349e-02,\n",
              "        -4.22184356e-03, -1.23085789e-02,  1.70365926e-02,\n",
              "        -1.45393264e-04,  1.73589401e-02, -1.61927529e-02,\n",
              "        -8.76172781e-02,  1.58586595e-02, -4.91915420e-02,\n",
              "         9.56542417e-03, -6.37936443e-02, -3.87710780e-02,\n",
              "         5.12599759e-02,  4.24283184e-02,  8.36074352e-02,\n",
              "         6.44895211e-02, -1.02284811e-02,  4.00115270e-03,\n",
              "        -3.23386341e-02,  5.70809618e-02, -2.57837269e-02,\n",
              "         3.68287526e-02, -8.93331170e-02, -2.13537477e-02,\n",
              "         1.55296307e-02, -2.52924953e-02,  4.96678315e-02,\n",
              "        -8.33055004e-02,  5.01355119e-02, -3.86243537e-02,\n",
              "         2.34952718e-02,  5.31125208e-03, -7.19599351e-02,\n",
              "        -5.22323996e-02,  3.70251164e-02,  7.10061193e-02,\n",
              "         3.39509659e-02, -9.58577543e-02, -3.66893448e-02,\n",
              "        -1.05182901e-02, -7.01287836e-02,  1.10623417e-02,\n",
              "         3.28574367e-02,  1.27727939e-02,  4.56128158e-02,\n",
              "         4.79412451e-02,  2.96275411e-02, -5.11750281e-02,\n",
              "         4.67522778e-02,  1.20976217e-01,  4.05983739e-02,\n",
              "        -5.85826486e-02, -3.78390178e-02, -2.74615511e-02,\n",
              "         5.41457385e-02, -9.76141915e-02, -2.85461475e-03,\n",
              "        -2.01712679e-02,  3.40156853e-02,  1.69239696e-02,\n",
              "         6.32903073e-03,  4.40519899e-02,  1.25290537e-02,\n",
              "         4.00707964e-03, -6.22361861e-02, -6.43030973e-03,\n",
              "         3.08672935e-02,  5.43304347e-03,  4.26981226e-03,\n",
              "         5.51323332e-02, -9.68759656e-02,  5.78288175e-02,\n",
              "         5.68042435e-02,  3.98023278e-02,  1.61338467e-02,\n",
              "        -5.64895906e-02, -3.87056433e-02,  6.14728825e-03,\n",
              "         5.24503514e-02,  3.96379344e-02]], dtype=float32)>"
            ]
          },
          "metadata": {},
          "execution_count": 22
        }
      ]
    },
    {
      "cell_type": "code",
      "metadata": {
        "id": "ZeQfVVaISlF4"
      },
      "source": [
        "def create_model():\n",
        "    model = tf.keras.Sequential([\n",
        "        tf.keras.layers.Input(shape=[], dtype=tf.string),\n",
        "        hub.KerasLayer(\"https://tfhub.dev/google/universal-sentence-encoder-multilingual/3\", trainable=True),\n",
        "        tf.keras.layers.Dense(512, \"relu\"),\n",
        "        tf.keras.layers.Dropout(.5),\n",
        "        tf.keras.layers.Dense(256, \"relu\"),\n",
        "        tf.keras.layers.Dropout(.5),\n",
        "        tf.keras.layers.Dense(1, 'sigmoid'),\n",
        "    ])\n",
        "    model.compile(\n",
        "        loss='binary_crossentropy',\n",
        "        optimizer='adam',\n",
        "        metrics=['accuracy']\n",
        "    )\n",
        "    return model"
      ],
      "execution_count": null,
      "outputs": []
    },
    {
      "cell_type": "code",
      "metadata": {
        "id": "dYXdvM7AX7MN"
      },
      "source": [
        "langs = ['en', 'fr', 'it', 'pt', 'ru']"
      ],
      "execution_count": null,
      "outputs": []
    },
    {
      "cell_type": "code",
      "metadata": {
        "id": "rWkrkvzdYnet"
      },
      "source": [
        "import numpy as np\n",
        "from sklearn.metrics import classification_report"
      ],
      "execution_count": null,
      "outputs": []
    },
    {
      "cell_type": "code",
      "metadata": {
        "id": "69AyhiqcX5_F",
        "colab": {
          "base_uri": "https://localhost:8080/"
        },
        "outputId": "fd894ac0-3fee-4a88-d2ea-d6b0a219c90f"
      },
      "source": [
        "for lang in list(reversed(langs)):\n",
        "    print(lang)\n",
        "    train_dataset = create(data_path.format(lang, 'train'), True)\n",
        "    valid_dataset = create(data_path.format(lang, 'test'))\n",
        "\n",
        "    model = create_model()\n",
        "    # Create earlystopping callback\n",
        "    early_stopping_callback = tf.keras.callbacks.EarlyStopping(\n",
        "        monitor='val_accuracy', min_delta=0,\n",
        "        patience=2, restore_best_weights = True)\n",
        "\n",
        "    model.fit(\n",
        "        train_dataset,\n",
        "        validation_data=valid_dataset,\n",
        "        epochs=1024,\n",
        "        callbacks=[early_stopping_callback]\n",
        "    )\n",
        "\n",
        "    tune_dataset = create(data_path.format(lang, 'tune'))\n",
        "\n",
        "    y_test = np.concatenate([y for x, y in tune_dataset], axis=0)\n",
        "\n",
        "    y_pred = model.predict(tune_dataset)\n",
        "\n",
        "    test_predict_around = np.around(y_pred)\n",
        "\n",
        "    result = classification_report(y_test, test_predict_around, digits=6)\n",
        "    print(result)"
      ],
      "execution_count": null,
      "outputs": [
        {
          "output_type": "stream",
          "name": "stdout",
          "text": [
            "ru\n",
            "Epoch 1/1024\n",
            "409/409 [==============================] - 48s 85ms/step - loss: 0.3583 - accuracy: 0.8434 - val_loss: 0.4042 - val_accuracy: 0.8240\n",
            "Epoch 2/1024\n",
            "409/409 [==============================] - 36s 81ms/step - loss: 0.3059 - accuracy: 0.8641 - val_loss: 0.4180 - val_accuracy: 0.8274\n",
            "Epoch 3/1024\n",
            "409/409 [==============================] - 36s 81ms/step - loss: 0.2750 - accuracy: 0.8770 - val_loss: 0.4426 - val_accuracy: 0.8210\n",
            "Epoch 4/1024\n",
            "409/409 [==============================] - 36s 82ms/step - loss: 0.2438 - accuracy: 0.8915 - val_loss: 0.4725 - val_accuracy: 0.8151\n",
            "              precision    recall  f1-score   support\n",
            "\n",
            "           0   0.761061  0.931262  0.837603     27263\n",
            "           1   0.895773  0.668937  0.765913     24077\n",
            "\n",
            "    accuracy                       0.808239     51340\n",
            "   macro avg   0.828417  0.800100  0.801758     51340\n",
            "weighted avg   0.824237  0.808239  0.803982     51340\n",
            "\n",
            "pt\n",
            "Epoch 1/1024\n",
            "409/409 [==============================] - 46s 80ms/step - loss: 0.3886 - accuracy: 0.8187 - val_loss: 0.4171 - val_accuracy: 0.7985\n",
            "Epoch 2/1024\n",
            "409/409 [==============================] - 35s 79ms/step - loss: 0.3261 - accuracy: 0.8468 - val_loss: 0.4306 - val_accuracy: 0.8090\n",
            "Epoch 3/1024\n",
            "409/409 [==============================] - 34s 78ms/step - loss: 0.2912 - accuracy: 0.8626 - val_loss: 0.4546 - val_accuracy: 0.8057\n",
            "Epoch 4/1024\n",
            "409/409 [==============================] - 34s 78ms/step - loss: 0.2570 - accuracy: 0.8797 - val_loss: 0.4832 - val_accuracy: 0.7987\n",
            "              precision    recall  f1-score   support\n",
            "\n",
            "           0   0.721094  0.939038  0.815760     27263\n",
            "           1   0.895056  0.588736  0.710277     24077\n",
            "\n",
            "    accuracy                       0.774757     51340\n",
            "   macro avg   0.808075  0.763887  0.763019     51340\n",
            "weighted avg   0.802677  0.774757  0.766292     51340\n",
            "\n",
            "it\n",
            "Epoch 1/1024\n",
            "409/409 [==============================] - 46s 80ms/step - loss: 0.3825 - accuracy: 0.8235 - val_loss: 0.4075 - val_accuracy: 0.8125\n",
            "Epoch 2/1024\n",
            "409/409 [==============================] - 34s 77ms/step - loss: 0.3224 - accuracy: 0.8495 - val_loss: 0.4507 - val_accuracy: 0.8125\n",
            "Epoch 3/1024\n",
            "409/409 [==============================] - 34s 78ms/step - loss: 0.2848 - accuracy: 0.8663 - val_loss: 0.4370 - val_accuracy: 0.7994\n",
            "              precision    recall  f1-score   support\n",
            "\n",
            "           0   0.735999  0.925027  0.819757     27263\n",
            "           1   0.880293  0.624289  0.730511     24077\n",
            "\n",
            "    accuracy                       0.783989     51340\n",
            "   macro avg   0.808146  0.774658  0.775134     51340\n",
            "weighted avg   0.803669  0.783989  0.777903     51340\n",
            "\n",
            "fr\n",
            "Epoch 1/1024\n",
            "409/409 [==============================] - 48s 85ms/step - loss: 0.3475 - accuracy: 0.8460 - val_loss: 0.3886 - val_accuracy: 0.8257\n",
            "Epoch 2/1024\n",
            "409/409 [==============================] - 36s 83ms/step - loss: 0.2882 - accuracy: 0.8704 - val_loss: 0.4350 - val_accuracy: 0.8258\n",
            "Epoch 3/1024\n",
            "409/409 [==============================] - 36s 82ms/step - loss: 0.2550 - accuracy: 0.8851 - val_loss: 0.4264 - val_accuracy: 0.8257\n",
            "Epoch 4/1024\n",
            "409/409 [==============================] - 37s 83ms/step - loss: 0.2249 - accuracy: 0.8982 - val_loss: 0.4890 - val_accuracy: 0.8150\n",
            "              precision    recall  f1-score   support\n",
            "\n",
            "           0   0.774422  0.905770  0.834962     27263\n",
            "           1   0.867938  0.701250  0.775741     24077\n",
            "\n",
            "    accuracy                       0.809856     51340\n",
            "   macro avg   0.821180  0.803510  0.805351     51340\n",
            "weighted avg   0.818278  0.809856  0.807189     51340\n",
            "\n",
            "en\n",
            "Epoch 1/1024\n",
            "409/409 [==============================] - 45s 79ms/step - loss: 0.2378 - accuracy: 0.9059 - val_loss: 0.2736 - val_accuracy: 0.8902\n",
            "Epoch 2/1024\n",
            "409/409 [==============================] - 34s 76ms/step - loss: 0.1649 - accuracy: 0.9323 - val_loss: 0.3120 - val_accuracy: 0.8932\n",
            "Epoch 3/1024\n",
            "409/409 [==============================] - 34s 77ms/step - loss: 0.1352 - accuracy: 0.9445 - val_loss: 0.3536 - val_accuracy: 0.8941\n",
            "Epoch 4/1024\n",
            "409/409 [==============================] - 34s 76ms/step - loss: 0.1115 - accuracy: 0.9555 - val_loss: 0.3548 - val_accuracy: 0.8879\n",
            "Epoch 5/1024\n",
            "409/409 [==============================] - 34s 76ms/step - loss: 0.0919 - accuracy: 0.9637 - val_loss: 0.4179 - val_accuracy: 0.8861\n",
            "              precision    recall  f1-score   support\n",
            "\n",
            "           0   0.832146  0.942303  0.883805     27263\n",
            "           1   0.923148  0.784774  0.848356     24077\n",
            "\n",
            "    accuracy                       0.868426     51340\n",
            "   macro avg   0.877647  0.863538  0.866080     51340\n",
            "weighted avg   0.874823  0.868426  0.867180     51340\n",
            "\n"
          ]
        }
      ]
    },
    {
      "cell_type": "code",
      "metadata": {
        "id": "KQjVoiAOl0lg"
      },
      "source": [
        ""
      ],
      "execution_count": null,
      "outputs": []
    },
    {
      "cell_type": "code",
      "metadata": {
        "id": "I6T7ytRbnItB"
      },
      "source": [
        "langs = ['en', 'fr', 'it', 'pt', 'ru']\n",
        "lang_format = '[!{}]*'"
      ],
      "execution_count": null,
      "outputs": []
    },
    {
      "cell_type": "code",
      "metadata": {
        "id": "cG8zoaU0i06r",
        "colab": {
          "base_uri": "https://localhost:8080/"
        },
        "outputId": "5268dabb-4ad9-4aa8-83f1-eb61464109f0"
      },
      "source": [
        "for lang in langs:\n",
        "    print(lang)\n",
        "    tune_dataset = create(data_path.format(lang, 'tune'))\n",
        "    y_test = np.concatenate([y for x, y in tune_dataset], axis=0)\n",
        "\n",
        "    y_pred = model.predict(tune_dataset)\n",
        "\n",
        "    test_predict_around = np.around(y_pred)\n",
        "\n",
        "    result = classification_report(y_test, test_predict_around, digits=6)\n",
        "    print(result)"
      ],
      "execution_count": null,
      "outputs": [
        {
          "output_type": "stream",
          "name": "stdout",
          "text": [
            "en\n",
            "              precision    recall  f1-score   support\n",
            "\n",
            "           0   0.838003  0.950042  0.890512     27263\n",
            "           1   0.933340  0.792042  0.856905     24077\n",
            "\n",
            "    accuracy                       0.875945     51340\n",
            "   macro avg   0.885671  0.871042  0.873709     51340\n",
            "weighted avg   0.882713  0.875945  0.874752     51340\n",
            "\n",
            "fr\n",
            "              precision    recall  f1-score   support\n",
            "\n",
            "           0   0.780935  0.901185  0.836762     27263\n",
            "           1   0.864480  0.713752  0.781918     24077\n",
            "\n",
            "    accuracy                       0.813284     51340\n",
            "   macro avg   0.822708  0.807468  0.809340     51340\n",
            "weighted avg   0.820115  0.813284  0.811042     51340\n",
            "\n",
            "it\n",
            "              precision    recall  f1-score   support\n",
            "\n",
            "           0   0.757978  0.876499  0.812941     27263\n",
            "           1   0.830070  0.683100  0.749447     24077\n",
            "\n",
            "    accuracy                       0.785801     51340\n",
            "   macro avg   0.794024  0.779800  0.781194     51340\n",
            "weighted avg   0.791787  0.785801  0.783164     51340\n",
            "\n",
            "pt\n",
            "              precision    recall  f1-score   support\n",
            "\n",
            "           0   0.741496  0.893152  0.810289     27263\n",
            "           1   0.842549  0.647423  0.732209     24077\n",
            "\n",
            "    accuracy                       0.777912     51340\n",
            "   macro avg   0.792023  0.770287  0.771249     51340\n",
            "weighted avg   0.788887  0.777912  0.773672     51340\n",
            "\n",
            "ru\n",
            "              precision    recall  f1-score   support\n",
            "\n",
            "           0   0.778152  0.890951  0.830740     27263\n",
            "           1   0.852273  0.712381  0.776073     24077\n",
            "\n",
            "    accuracy                       0.807207     51340\n",
            "   macro avg   0.815212  0.801666  0.803407     51340\n",
            "weighted avg   0.812913  0.807207  0.805103     51340\n",
            "\n"
          ]
        }
      ]
    },
    {
      "cell_type": "code",
      "metadata": {
        "id": "VAMlJzVInVLB"
      },
      "source": [
        "langs = ['en', 'fr', 'it', 'pt', 'ru']\n",
        "lang_format = '[!{}]*'"
      ],
      "execution_count": null,
      "outputs": []
    },
    {
      "cell_type": "code",
      "metadata": {
        "colab": {
          "base_uri": "https://localhost:8080/"
        },
        "id": "F3KfOuXkeMyB",
        "outputId": "ccd667be-6d9d-4cb9-e0a3-12594d237292"
      },
      "source": [
        "glob(data_path.format(lang_format.format('en'), 'train'))"
      ],
      "execution_count": null,
      "outputs": [
        {
          "output_type": "execute_result",
          "data": {
            "text/plain": [
              "['XFORMAL/gyafc_translated/pt/Family_Relationships/train/formal/formal',\n",
              " 'XFORMAL/gyafc_translated/pt/Family_Relationships/train/informal/informal',\n",
              " 'XFORMAL/gyafc_translated/pt/Entertainment_Music/train/formal/formal',\n",
              " 'XFORMAL/gyafc_translated/pt/Entertainment_Music/train/informal/informal',\n",
              " 'XFORMAL/gyafc_translated/fr/Family_Relationships/train/formal/formal',\n",
              " 'XFORMAL/gyafc_translated/fr/Family_Relationships/train/informal/informal',\n",
              " 'XFORMAL/gyafc_translated/fr/Entertainment_Music/train/formal/formal',\n",
              " 'XFORMAL/gyafc_translated/fr/Entertainment_Music/train/informal/informal',\n",
              " 'XFORMAL/gyafc_translated/ru/Family_Relationships/train/formal/formal_ru',\n",
              " 'XFORMAL/gyafc_translated/ru/Family_Relationships/train/informal/informal_ru',\n",
              " 'XFORMAL/gyafc_translated/ru/Entertainment_Music/train/formal/formal_ru',\n",
              " 'XFORMAL/gyafc_translated/ru/Entertainment_Music/train/informal/informal_ru',\n",
              " 'XFORMAL/gyafc_translated/it/Family_Relationships/train/formal/formal',\n",
              " 'XFORMAL/gyafc_translated/it/Family_Relationships/train/informal/informal',\n",
              " 'XFORMAL/gyafc_translated/it/Entertainment_Music/train/formal/formal',\n",
              " 'XFORMAL/gyafc_translated/it/Entertainment_Music/train/informal/informal']"
            ]
          },
          "metadata": {},
          "execution_count": 16
        }
      ]
    },
    {
      "cell_type": "code",
      "metadata": {
        "colab": {
          "base_uri": "https://localhost:8080/"
        },
        "id": "SUKBYDBgefxd",
        "outputId": "f77d4d1f-c846-4110-d30f-2e2ac8072f04"
      },
      "source": [
        "glob(data_path.format('en', 'test'))"
      ],
      "execution_count": null,
      "outputs": [
        {
          "output_type": "execute_result",
          "data": {
            "text/plain": [
              "['XFORMAL/gyafc_translated/en/Family_Relationships/train/formal/formal',\n",
              " 'XFORMAL/gyafc_translated/en/Family_Relationships/train/informal/informal',\n",
              " 'XFORMAL/gyafc_translated/en/Entertainment_Music/train/formal/formal',\n",
              " 'XFORMAL/gyafc_translated/en/Entertainment_Music/train/informal/informal']"
            ]
          },
          "metadata": {},
          "execution_count": 17
        }
      ]
    },
    {
      "cell_type": "code",
      "metadata": {
        "id": "9bbwt9c8mmIi",
        "colab": {
          "base_uri": "https://localhost:8080/"
        },
        "outputId": "87b1482b-f029-47f6-e00f-d6e07565dcae"
      },
      "source": [
        "for lang in langs:\n",
        "    print(lang)\n",
        "    train_dataset = create(data_path.format(lang_format.format(lang), 'train'), True)\n",
        "    valid_dataset = create(data_path.format(lang, 'test'))\n",
        "\n",
        "    model = create_model()\n",
        "    # Create earlystopping callback\n",
        "    early_stopping_callback = tf.keras.callbacks.EarlyStopping(\n",
        "        monitor='val_accuracy', min_delta=0,\n",
        "        patience=2, restore_best_weights = True)\n",
        "\n",
        "    model.fit(\n",
        "        train_dataset,\n",
        "        validation_data=valid_dataset,\n",
        "        epochs=1024,\n",
        "        callbacks=[early_stopping_callback]\n",
        "    )\n",
        "\n",
        "    tune_dataset = create(data_path.format(lang, 'tune'))\n",
        "\n",
        "    y_test = np.concatenate([y for x, y in tune_dataset], axis=0)\n",
        "\n",
        "    y_pred = model.predict(tune_dataset)\n",
        "\n",
        "    test_predict_around = np.around(y_pred)\n",
        "\n",
        "    result = classification_report(y_test, test_predict_around, digits=6)\n",
        "    print(result)"
      ],
      "execution_count": null,
      "outputs": [
        {
          "output_type": "stream",
          "name": "stdout",
          "text": [
            "en\n",
            "Epoch 1/1024\n",
            "1634/1634 [==============================] - 145s 81ms/step - loss: 0.3365 - accuracy: 0.8456 - val_loss: 0.4547 - val_accuracy: 0.7674\n",
            "Epoch 2/1024\n",
            "1634/1634 [==============================] - 133s 80ms/step - loss: 0.2889 - accuracy: 0.8666 - val_loss: 0.4528 - val_accuracy: 0.7962\n",
            "Epoch 3/1024\n",
            "1634/1634 [==============================] - 131s 79ms/step - loss: 0.2554 - accuracy: 0.8820 - val_loss: 0.5339 - val_accuracy: 0.7572\n",
            "Epoch 4/1024\n",
            "1634/1634 [==============================] - 132s 79ms/step - loss: 0.2260 - accuracy: 0.8955 - val_loss: 0.6521 - val_accuracy: 0.7635\n",
            "              precision    recall  f1-score   support\n",
            "\n",
            "           0   0.863069  0.737960  0.795626     27263\n",
            "           1   0.745121  0.867425  0.801635     24077\n",
            "\n",
            "    accuracy                       0.798675     51340\n",
            "   macro avg   0.804095  0.802693  0.798631     51340\n",
            "weighted avg   0.807755  0.798675  0.798444     51340\n",
            "\n",
            "fr\n",
            "Epoch 1/1024\n",
            "1226/1226 [==============================] - 107s 78ms/step - loss: 0.3042 - accuracy: 0.8611 - val_loss: 0.6181 - val_accuracy: 0.6932\n",
            "Epoch 2/1024\n",
            "1226/1226 [==============================] - 96s 76ms/step - loss: 0.2518 - accuracy: 0.8834 - val_loss: 0.5564 - val_accuracy: 0.7253\n",
            "Epoch 3/1024\n",
            "1226/1226 [==============================] - 96s 76ms/step - loss: 0.2186 - accuracy: 0.8986 - val_loss: 0.5878 - val_accuracy: 0.7173\n",
            "Epoch 4/1024\n",
            "1226/1226 [==============================] - 96s 77ms/step - loss: 0.1904 - accuracy: 0.9120 - val_loss: 0.6958 - val_accuracy: 0.7057\n",
            "              precision    recall  f1-score   support\n",
            "\n",
            "           0   0.805126  0.624509  0.703408     27263\n",
            "           1   0.660948  0.828841  0.735434     24077\n",
            "\n",
            "    accuracy                       0.720335     51340\n",
            "   macro avg   0.733037  0.726675  0.719421     51340\n",
            "weighted avg   0.737511  0.720335  0.718427     51340\n",
            "\n",
            "it\n",
            "Epoch 1/1024\n",
            "1634/1634 [==============================] - 143s 80ms/step - loss: 0.3001 - accuracy: 0.8657 - val_loss: 0.4344 - val_accuracy: 0.7974\n",
            "Epoch 2/1024\n",
            "1634/1634 [==============================] - 131s 79ms/step - loss: 0.2539 - accuracy: 0.8851 - val_loss: 0.4737 - val_accuracy: 0.7754\n",
            "Epoch 3/1024\n",
            "1634/1634 [==============================] - 132s 79ms/step - loss: 0.2256 - accuracy: 0.8975 - val_loss: 0.5113 - val_accuracy: 0.7509\n",
            "              precision    recall  f1-score   support\n",
            "\n",
            "           0   0.736894  0.885229  0.804279     27263\n",
            "           1   0.831675  0.642107  0.724699     24077\n",
            "\n",
            "    accuracy                       0.771212     51340\n",
            "   macro avg   0.784284  0.763668  0.764489     51340\n",
            "weighted avg   0.781343  0.771212  0.766958     51340\n",
            "\n",
            "pt\n",
            "Epoch 1/1024\n",
            "1634/1634 [==============================] - 143s 80ms/step - loss: 0.2994 - accuracy: 0.8664 - val_loss: 0.4484 - val_accuracy: 0.7809\n",
            "Epoch 2/1024\n",
            "1634/1634 [==============================] - 130s 78ms/step - loss: 0.2525 - accuracy: 0.8859 - val_loss: 0.4946 - val_accuracy: 0.7483\n",
            "Epoch 3/1024\n",
            "1634/1634 [==============================] - 131s 79ms/step - loss: 0.2230 - accuracy: 0.8990 - val_loss: 0.5982 - val_accuracy: 0.7228\n",
            "              precision    recall  f1-score   support\n",
            "\n",
            "           0   0.740744  0.824891  0.780556     27263\n",
            "           1   0.772450  0.673091  0.719355     24077\n",
            "\n",
            "    accuracy                       0.753701     51340\n",
            "   macro avg   0.756597  0.748991  0.749956     51340\n",
            "weighted avg   0.755613  0.753701  0.751855     51340\n",
            "\n",
            "ru\n",
            "Epoch 1/1024\n",
            "1634/1634 [==============================] - 140s 78ms/step - loss: 0.3015 - accuracy: 0.8626 - val_loss: 0.5979 - val_accuracy: 0.7111\n",
            "Epoch 2/1024\n",
            "1634/1634 [==============================] - 129s 78ms/step - loss: 0.2523 - accuracy: 0.8840 - val_loss: 0.6098 - val_accuracy: 0.7244\n",
            "Epoch 3/1024\n",
            "1634/1634 [==============================] - 129s 77ms/step - loss: 0.2213 - accuracy: 0.8979 - val_loss: 0.6492 - val_accuracy: 0.7025\n",
            "Epoch 4/1024\n",
            "1634/1634 [==============================] - 129s 77ms/step - loss: 0.1965 - accuracy: 0.9096 - val_loss: 0.6556 - val_accuracy: 0.6950\n",
            "              precision    recall  f1-score   support\n",
            "\n",
            "           0   0.778417  0.650332  0.708633     27263\n",
            "           1   0.666247  0.790381  0.723024     24077\n",
            "\n",
            "    accuracy                       0.716011     51340\n",
            "   macro avg   0.722332  0.720356  0.715829     51340\n",
            "weighted avg   0.725812  0.716011  0.715382     51340\n",
            "\n"
          ]
        }
      ]
    },
    {
      "cell_type": "code",
      "metadata": {
        "id": "7AlTZEAZkYfQ"
      },
      "source": [
        "train_dataset = create(data_path.format(lang, 'train'), True)\n",
        "valid_dataset = create(data_path.format(lang, 'test'))"
      ],
      "execution_count": null,
      "outputs": []
    },
    {
      "cell_type": "code",
      "metadata": {
        "id": "EM_Few5eUQxe"
      },
      "source": [
        "model = create_model()\n",
        "# Create earlystopping callback\n",
        "early_stopping_callback = tf.keras.callbacks.EarlyStopping(\n",
        "    monitor='val_accuracy', min_delta=0,\n",
        "    patience=2, restore_best_weights = True)"
      ],
      "execution_count": null,
      "outputs": []
    },
    {
      "cell_type": "code",
      "metadata": {
        "id": "3Rxqt6jHY_ZK"
      },
      "source": [
        "model.evaluate"
      ],
      "execution_count": null,
      "outputs": []
    },
    {
      "cell_type": "code",
      "metadata": {
        "id": "n2_5FhQic26v"
      },
      "source": [
        "model.fit(\n",
        "    train_dataset,\n",
        "    validation_data=valid_dataset,\n",
        "    epochs=1024,\n",
        "    callbacks=[early_stopping_callback]\n",
        ")"
      ],
      "execution_count": null,
      "outputs": []
    },
    {
      "cell_type": "code",
      "metadata": {
        "id": "CpoN8C4PdLQa"
      },
      "source": [
        "valid_dataset = create(data_path.format('tune'))"
      ],
      "execution_count": null,
      "outputs": []
    },
    {
      "cell_type": "code",
      "metadata": {
        "id": "xemVlLFJXjlc"
      },
      "source": [
        "y_pred = model.predict(np.asarray(X_test))"
      ],
      "execution_count": null,
      "outputs": []
    },
    {
      "cell_type": "code",
      "metadata": {
        "id": "GsIpKeE3g-6z"
      },
      "source": [
        "test_predict_around = np.around(y_pred)"
      ],
      "execution_count": null,
      "outputs": []
    },
    {
      "cell_type": "code",
      "metadata": {
        "id": "wGT0-h2EYOtV"
      },
      "source": [
        "import seaborn as sns\n",
        "import matplotlib.pyplot as plt\n",
        "\n",
        "from sklearn.metrics import confusion_matrix, classification_report"
      ],
      "execution_count": null,
      "outputs": []
    },
    {
      "cell_type": "code",
      "metadata": {
        "id": "X1TU0F6fc9pf"
      },
      "source": [
        "confusion_mtx = confusion_matrix(y_test, test_predict_around)\n",
        "plt.figure(figsize=(10, 8))\n",
        "cm = confusion_mtx.astype('float') / confusion_mtx.sum(axis=1)[:, np.newaxis]\n",
        "sns.heatmap(cm, annot=True, fmt='.2f')\n",
        "plt.xlabel('Prediction')\n",
        "plt.ylabel('Label')\n",
        "plt.show()"
      ],
      "execution_count": null,
      "outputs": []
    },
    {
      "cell_type": "code",
      "metadata": {
        "id": "SNr52eWQdmG8"
      },
      "source": [
        "result = classification_report(y_test, test_predict_around, digits=6)\n",
        "print(result)"
      ],
      "execution_count": null,
      "outputs": []
    }
  ]
}